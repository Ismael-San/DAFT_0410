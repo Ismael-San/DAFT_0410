{
 "cells": [
  {
   "cell_type": "code",
   "execution_count": null,
   "id": "7d2b885e",
   "metadata": {},
   "outputs": [],
   "source": [
    "c_id = \"de33db3d76bc47a4a9ed98f6c823727b\"\n",
    "c_se = \"3370dff0b28b42e18914f25d5e144e3a\""
   ]
  }
 ],
 "metadata": {
  "kernelspec": {
   "display_name": "Python 3 (ipykernel)",
   "language": "python",
   "name": "python3"
  },
  "language_info": {
   "codemirror_mode": {
    "name": "ipython",
    "version": 3
   },
   "file_extension": ".py",
   "mimetype": "text/x-python",
   "name": "python",
   "nbconvert_exporter": "python",
   "pygments_lexer": "ipython3",
   "version": "3.9.13"
  }
 },
 "nbformat": 4,
 "nbformat_minor": 5
}
