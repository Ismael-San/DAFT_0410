{
 "cells": [
  {
   "cell_type": "code",
   "execution_count": 1,
   "metadata": {},
   "outputs": [],
   "source": [
    "import spotipy"
   ]
  },
  {
   "cell_type": "code",
   "execution_count": 2,
   "metadata": {},
   "outputs": [],
   "source": [
    "import pandas as pd\n",
    "import json\n",
    "import os"
   ]
  },
  {
   "cell_type": "code",
   "execution_count": 20,
   "metadata": {},
   "outputs": [],
   "source": [
    "Compteur = 0\n",
    "all_id_tracks = []"
   ]
  },
  {
   "cell_type": "code",
   "execution_count": 39,
   "metadata": {},
   "outputs": [],
   "source": [
    "Compteur = 111"
   ]
  },
  {
   "cell_type": "code",
   "execution_count": 4,
   "metadata": {},
   "outputs": [
    {
     "data": {
      "text/plain": [
       "'/Users/ismaelcisse/IronHack_labs/DAFT_0410/module_2/Project_Week_6'"
      ]
     },
     "execution_count": 4,
     "metadata": {},
     "output_type": "execute_result"
    }
   ],
   "source": [
    "#from dotenv import load_dotenv\n",
    "#import os\n",
    "#load_dotenv('.env')\n",
    "#c_id = os.environ['USER_ID']\n",
    "#c_se = os.environ['USER_Q']\n",
    "\n",
    "os.getcwd()"
   ]
  },
  {
   "cell_type": "code",
   "execution_count": 5,
   "metadata": {},
   "outputs": [],
   "source": [
    "import config"
   ]
  },
  {
   "cell_type": "code",
   "execution_count": 6,
   "metadata": {},
   "outputs": [],
   "source": [
    "c_id = config.c_id\n",
    "c_se = config.c_se"
   ]
  },
  {
   "cell_type": "code",
   "execution_count": 40,
   "metadata": {},
   "outputs": [],
   "source": [
    "from spotipy.oauth2 import SpotifyClientCredentials\n",
    "\n",
    "sp = spotipy.Spotify(auth_manager=SpotifyClientCredentials(client_id=c_id, client_secret=c_se))\n"
   ]
  },
  {
   "cell_type": "code",
   "execution_count": 41,
   "metadata": {},
   "outputs": [],
   "source": [
    "def get_playlist_tracks(username, playlist_id):\n",
    "    results = sp.user_playlist_tracks(username,playlist_id,market=\"GB\")\n",
    "    tracks = results['items']\n",
    "    while results['next']:\n",
    "        results = sp.next(results)\n",
    "        tracks.extend(results['items'])\n",
    "    return tracks"
   ]
  },
  {
   "cell_type": "code",
   "execution_count": 42,
   "metadata": {},
   "outputs": [
    {
     "name": "stdout",
     "output_type": "stream",
     "text": [
      "103\n"
     ]
    }
   ],
   "source": [
    "#Get tracks from playlist\n",
    "tracks=get_playlist_tracks(\"spotify\", \"5GKWfQHnF31SrDj2iFB0e6\")\n",
    "print(len(tracks))\n",
    "# 37i9dQZF1DZ06evO1NyWWI\n",
    "# 37i9dQZF1E4saXsi0xT6zx\n",
    "# 4trFWjwb2rfSOJAZ6Lum6I - Rap Catéchisme | Rap Technique Playlist\n",
    "# 5GKWfQHnF31SrDj2iFB0e6 - Rap Dose\n",
    "# 6vGKKQWzy3KfPCAR0K7DUF - Privée - FIFA OST\n",
    "# 5TN6UoQ5JaU2GZD9PRUYFB - Dive Into The 80s\n"
   ]
  },
  {
   "cell_type": "code",
   "execution_count": 43,
   "metadata": {},
   "outputs": [],
   "source": [
    "tracks_c = []"
   ]
  },
  {
   "cell_type": "code",
   "execution_count": 44,
   "metadata": {},
   "outputs": [],
   "source": [
    "for i in tracks:\n",
    "    if i[\"track\"][\"id\"] not in all_id_tracks:\n",
    "        all_id_tracks.append(i[\"track\"][\"id\"])\n",
    "        tracks_c.append(i)"
   ]
  },
  {
   "cell_type": "code",
   "execution_count": 45,
   "metadata": {},
   "outputs": [
    {
     "name": "stdout",
     "output_type": "stream",
     "text": [
      "103\n",
      "0\n",
      "103\n"
     ]
    }
   ],
   "source": [
    "print(len(tracks))\n",
    "print(len(tracks_c))\n",
    "print(len(all_id_tracks))"
   ]
  },
  {
   "cell_type": "code",
   "execution_count": 47,
   "metadata": {},
   "outputs": [
    {
     "data": {
      "text/plain": [
       "[]"
      ]
     },
     "execution_count": 47,
     "metadata": {},
     "output_type": "execute_result"
    }
   ],
   "source": [
    "tracks_c"
   ]
  },
  {
   "cell_type": "code",
   "execution_count": 14,
   "metadata": {},
   "outputs": [],
   "source": [
    "#Get audio feature for each track\n",
    "list_of_audio_features=[]\n",
    "for item in range(0,len(tracks_c)):\n",
    "#for item in range(0,10):\n",
    "    MyDic = {}\n",
    "    #print(\"tracks[item]['track']['id']\", \"{ 'name' : '\" + tracks[item][\"track\"]['name'] +  \"' ,'artist' :'\" + tracks[item][\"track\"]['artists'][0]['name'] + \"'}\")\n",
    "    #print('sp.audio_features(tracks[item][\"track\"][\"id\"])[0]',sp.audio_features(tracks[item][\"track\"][\"id\"])[0])\n",
    "    MyDic= '{ \"item\" : ' + str(Compteur) + ',\"name\" : \"' + tracks_c[item]['track']['name'].replace('\"','') +  '\" ,\"artist\" : \"' + tracks_c[item]['track']['artists'][0]['name'] + '\"}'\n",
    "    #print(MyDic)\n",
    "    Compteur += 1\n",
    "    MyDic = json.loads(MyDic)\n",
    "    MyDic.update(sp.audio_features(tracks_c[item][\"track\"][\"id\"])[0])\n",
    "    #print(MyDic)\n",
    "\n",
    "    list_of_audio_features.append(MyDic)"
   ]
  },
  {
   "cell_type": "code",
   "execution_count": 15,
   "metadata": {},
   "outputs": [],
   "source": [
    "\n",
    "df=pd.DataFrame(list_of_audio_features) \n",
    "df=df[[\"item\",\"id\",\"name\",\"artist\",\"danceability\",\"energy\",\"key\",\"mode\",\"loudness\",\"speechiness\",\"acousticness\",\"instrumentalness\",\"liveness\",\"valence\",\"tempo\",\"duration_ms\"]]\n"
   ]
  },
  {
   "cell_type": "code",
   "execution_count": 16,
   "metadata": {},
   "outputs": [
    {
     "data": {
      "text/html": [
       "<div>\n",
       "<style scoped>\n",
       "    .dataframe tbody tr th:only-of-type {\n",
       "        vertical-align: middle;\n",
       "    }\n",
       "\n",
       "    .dataframe tbody tr th {\n",
       "        vertical-align: top;\n",
       "    }\n",
       "\n",
       "    .dataframe thead th {\n",
       "        text-align: right;\n",
       "    }\n",
       "</style>\n",
       "<table border=\"1\" class=\"dataframe\">\n",
       "  <thead>\n",
       "    <tr style=\"text-align: right;\">\n",
       "      <th></th>\n",
       "      <th>item</th>\n",
       "      <th>id</th>\n",
       "      <th>name</th>\n",
       "      <th>artist</th>\n",
       "      <th>danceability</th>\n",
       "      <th>energy</th>\n",
       "      <th>key</th>\n",
       "      <th>mode</th>\n",
       "      <th>loudness</th>\n",
       "      <th>speechiness</th>\n",
       "      <th>acousticness</th>\n",
       "      <th>instrumentalness</th>\n",
       "      <th>liveness</th>\n",
       "      <th>valence</th>\n",
       "      <th>tempo</th>\n",
       "      <th>duration_ms</th>\n",
       "    </tr>\n",
       "  </thead>\n",
       "  <tbody>\n",
       "    <tr>\n",
       "      <th>0</th>\n",
       "      <td>0</td>\n",
       "      <td>2J0AJV5DsKyDuX1qEgJngB</td>\n",
       "      <td>Rap catéchisme</td>\n",
       "      <td>Freeze corleone</td>\n",
       "      <td>0.739</td>\n",
       "      <td>0.524</td>\n",
       "      <td>1</td>\n",
       "      <td>1</td>\n",
       "      <td>-10.050</td>\n",
       "      <td>0.289</td>\n",
       "      <td>0.1720</td>\n",
       "      <td>0.000518</td>\n",
       "      <td>0.0665</td>\n",
       "      <td>0.383</td>\n",
       "      <td>73.890</td>\n",
       "      <td>178253</td>\n",
       "    </tr>\n",
       "    <tr>\n",
       "      <th>1</th>\n",
       "      <td>1</td>\n",
       "      <td>54tPDnsDWApjSdC2KgNmoG</td>\n",
       "      <td>MÉDICATION</td>\n",
       "      <td>Malo</td>\n",
       "      <td>0.466</td>\n",
       "      <td>0.625</td>\n",
       "      <td>11</td>\n",
       "      <td>0</td>\n",
       "      <td>-10.564</td>\n",
       "      <td>0.472</td>\n",
       "      <td>0.5320</td>\n",
       "      <td>0.000000</td>\n",
       "      <td>0.1230</td>\n",
       "      <td>0.593</td>\n",
       "      <td>53.751</td>\n",
       "      <td>156781</td>\n",
       "    </tr>\n",
       "    <tr>\n",
       "      <th>2</th>\n",
       "      <td>2</td>\n",
       "      <td>3KLqY7E5dOgvfZ6qppQ9u7</td>\n",
       "      <td>10 minutes</td>\n",
       "      <td>PLK</td>\n",
       "      <td>0.597</td>\n",
       "      <td>0.494</td>\n",
       "      <td>11</td>\n",
       "      <td>0</td>\n",
       "      <td>-8.263</td>\n",
       "      <td>0.469</td>\n",
       "      <td>0.1890</td>\n",
       "      <td>0.000002</td>\n",
       "      <td>0.0813</td>\n",
       "      <td>0.504</td>\n",
       "      <td>139.889</td>\n",
       "      <td>152440</td>\n",
       "    </tr>\n",
       "    <tr>\n",
       "      <th>3</th>\n",
       "      <td>3</td>\n",
       "      <td>3K19Lqj2fRm2zCllw8eUOA</td>\n",
       "      <td>Next Up France - S2-E5</td>\n",
       "      <td>Lybro</td>\n",
       "      <td>0.521</td>\n",
       "      <td>0.740</td>\n",
       "      <td>9</td>\n",
       "      <td>1</td>\n",
       "      <td>-8.044</td>\n",
       "      <td>0.724</td>\n",
       "      <td>0.5420</td>\n",
       "      <td>0.000000</td>\n",
       "      <td>0.0701</td>\n",
       "      <td>0.531</td>\n",
       "      <td>143.288</td>\n",
       "      <td>186667</td>\n",
       "    </tr>\n",
       "    <tr>\n",
       "      <th>4</th>\n",
       "      <td>4</td>\n",
       "      <td>1Kkl7xpGQrKZSLuY65Qsb0</td>\n",
       "      <td>Mauvais mélange</td>\n",
       "      <td>Nyda</td>\n",
       "      <td>0.758</td>\n",
       "      <td>0.601</td>\n",
       "      <td>2</td>\n",
       "      <td>1</td>\n",
       "      <td>-10.141</td>\n",
       "      <td>0.339</td>\n",
       "      <td>0.7120</td>\n",
       "      <td>0.000000</td>\n",
       "      <td>0.1500</td>\n",
       "      <td>0.644</td>\n",
       "      <td>134.016</td>\n",
       "      <td>173639</td>\n",
       "    </tr>\n",
       "    <tr>\n",
       "      <th>5</th>\n",
       "      <td>5</td>\n",
       "      <td>0vjRWn9TkzH3P8iRqkiHNS</td>\n",
       "      <td>Chaud</td>\n",
       "      <td>KIK</td>\n",
       "      <td>0.829</td>\n",
       "      <td>0.682</td>\n",
       "      <td>8</td>\n",
       "      <td>1</td>\n",
       "      <td>-5.771</td>\n",
       "      <td>0.216</td>\n",
       "      <td>0.0924</td>\n",
       "      <td>0.002630</td>\n",
       "      <td>0.1750</td>\n",
       "      <td>0.571</td>\n",
       "      <td>152.033</td>\n",
       "      <td>128720</td>\n",
       "    </tr>\n",
       "    <tr>\n",
       "      <th>6</th>\n",
       "      <td>6</td>\n",
       "      <td>4MK6F6hRO1cV3WWUrzgA2H</td>\n",
       "      <td>-94°C</td>\n",
       "      <td>NeS</td>\n",
       "      <td>0.865</td>\n",
       "      <td>0.416</td>\n",
       "      <td>1</td>\n",
       "      <td>0</td>\n",
       "      <td>-10.454</td>\n",
       "      <td>0.419</td>\n",
       "      <td>0.0563</td>\n",
       "      <td>0.000000</td>\n",
       "      <td>0.0981</td>\n",
       "      <td>0.441</td>\n",
       "      <td>90.925</td>\n",
       "      <td>150332</td>\n",
       "    </tr>\n",
       "    <tr>\n",
       "      <th>7</th>\n",
       "      <td>7</td>\n",
       "      <td>50yVd0EfjgkNushrPmYYnc</td>\n",
       "      <td>nouvelle écriture</td>\n",
       "      <td>Mairo</td>\n",
       "      <td>0.638</td>\n",
       "      <td>0.743</td>\n",
       "      <td>4</td>\n",
       "      <td>0</td>\n",
       "      <td>-6.690</td>\n",
       "      <td>0.398</td>\n",
       "      <td>0.4060</td>\n",
       "      <td>0.000000</td>\n",
       "      <td>0.3340</td>\n",
       "      <td>0.628</td>\n",
       "      <td>92.193</td>\n",
       "      <td>134661</td>\n",
       "    </tr>\n",
       "    <tr>\n",
       "      <th>8</th>\n",
       "      <td>8</td>\n",
       "      <td>3FDhEqpXCM1BPPn1q8VTon</td>\n",
       "      <td>Dilemme</td>\n",
       "      <td>Chaax</td>\n",
       "      <td>0.847</td>\n",
       "      <td>0.704</td>\n",
       "      <td>2</td>\n",
       "      <td>1</td>\n",
       "      <td>-6.662</td>\n",
       "      <td>0.374</td>\n",
       "      <td>0.0427</td>\n",
       "      <td>0.000000</td>\n",
       "      <td>0.1210</td>\n",
       "      <td>0.567</td>\n",
       "      <td>145.049</td>\n",
       "      <td>175846</td>\n",
       "    </tr>\n",
       "    <tr>\n",
       "      <th>9</th>\n",
       "      <td>9</td>\n",
       "      <td>6eS9MESvWbhLv2zvv4Zc7T</td>\n",
       "      <td>très tard le soir (feat. Josman)</td>\n",
       "      <td>Benjamin Epps</td>\n",
       "      <td>0.699</td>\n",
       "      <td>0.574</td>\n",
       "      <td>10</td>\n",
       "      <td>0</td>\n",
       "      <td>-8.591</td>\n",
       "      <td>0.286</td>\n",
       "      <td>0.0715</td>\n",
       "      <td>0.000017</td>\n",
       "      <td>0.1040</td>\n",
       "      <td>0.179</td>\n",
       "      <td>93.030</td>\n",
       "      <td>282373</td>\n",
       "    </tr>\n",
       "  </tbody>\n",
       "</table>\n",
       "</div>"
      ],
      "text/plain": [
       "   item                      id                              name  \\\n",
       "0     0  2J0AJV5DsKyDuX1qEgJngB                    Rap catéchisme   \n",
       "1     1  54tPDnsDWApjSdC2KgNmoG                        MÉDICATION   \n",
       "2     2  3KLqY7E5dOgvfZ6qppQ9u7                        10 minutes   \n",
       "3     3  3K19Lqj2fRm2zCllw8eUOA            Next Up France - S2-E5   \n",
       "4     4  1Kkl7xpGQrKZSLuY65Qsb0                   Mauvais mélange   \n",
       "5     5  0vjRWn9TkzH3P8iRqkiHNS                             Chaud   \n",
       "6     6  4MK6F6hRO1cV3WWUrzgA2H                             -94°C   \n",
       "7     7  50yVd0EfjgkNushrPmYYnc                 nouvelle écriture   \n",
       "8     8  3FDhEqpXCM1BPPn1q8VTon                           Dilemme   \n",
       "9     9  6eS9MESvWbhLv2zvv4Zc7T  très tard le soir (feat. Josman)   \n",
       "\n",
       "            artist  danceability  energy  key  mode  loudness  speechiness  \\\n",
       "0  Freeze corleone         0.739   0.524    1     1   -10.050        0.289   \n",
       "1             Malo         0.466   0.625   11     0   -10.564        0.472   \n",
       "2              PLK         0.597   0.494   11     0    -8.263        0.469   \n",
       "3            Lybro         0.521   0.740    9     1    -8.044        0.724   \n",
       "4             Nyda         0.758   0.601    2     1   -10.141        0.339   \n",
       "5              KIK         0.829   0.682    8     1    -5.771        0.216   \n",
       "6              NeS         0.865   0.416    1     0   -10.454        0.419   \n",
       "7            Mairo         0.638   0.743    4     0    -6.690        0.398   \n",
       "8            Chaax         0.847   0.704    2     1    -6.662        0.374   \n",
       "9    Benjamin Epps         0.699   0.574   10     0    -8.591        0.286   \n",
       "\n",
       "   acousticness  instrumentalness  liveness  valence    tempo  duration_ms  \n",
       "0        0.1720          0.000518    0.0665    0.383   73.890       178253  \n",
       "1        0.5320          0.000000    0.1230    0.593   53.751       156781  \n",
       "2        0.1890          0.000002    0.0813    0.504  139.889       152440  \n",
       "3        0.5420          0.000000    0.0701    0.531  143.288       186667  \n",
       "4        0.7120          0.000000    0.1500    0.644  134.016       173639  \n",
       "5        0.0924          0.002630    0.1750    0.571  152.033       128720  \n",
       "6        0.0563          0.000000    0.0981    0.441   90.925       150332  \n",
       "7        0.4060          0.000000    0.3340    0.628   92.193       134661  \n",
       "8        0.0427          0.000000    0.1210    0.567  145.049       175846  \n",
       "9        0.0715          0.000017    0.1040    0.179   93.030       282373  "
      ]
     },
     "metadata": {},
     "output_type": "display_data"
    }
   ],
   "source": [
    "display(df.head(10))"
   ]
  },
  {
   "cell_type": "code",
   "execution_count": 18,
   "metadata": {},
   "outputs": [],
   "source": [
    "#append to csv\n",
    "df.to_csv('audio_features.csv',mode='a',index=False, header=False)"
   ]
  },
  {
   "cell_type": "code",
   "execution_count": 19,
   "metadata": {},
   "outputs": [],
   "source": [
    "#1srt create csv with columns name csv\n",
    "df.to_csv('audio_features.csv',mode='a',index=False)"
   ]
  }
 ],
 "metadata": {
  "kernelspec": {
   "display_name": "Python 3 (ipykernel)",
   "language": "python",
   "name": "python3"
  },
  "language_info": {
   "codemirror_mode": {
    "name": "ipython",
    "version": 3
   },
   "file_extension": ".py",
   "mimetype": "text/x-python",
   "name": "python",
   "nbconvert_exporter": "python",
   "pygments_lexer": "ipython3",
   "version": "3.9.13"
  }
 },
 "nbformat": 4,
 "nbformat_minor": 2
}
