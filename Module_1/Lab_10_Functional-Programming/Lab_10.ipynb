{
 "cells": [
  {
   "cell_type": "code",
   "execution_count": 47,
   "id": "218be9fb",
   "metadata": {},
   "outputs": [
    {
     "data": {
      "text/plain": [
       "17"
      ]
     },
     "execution_count": 47,
     "metadata": {},
     "output_type": "execute_result"
    }
   ],
   "source": [
    "# Counting sheep...\n",
    "\n",
    "sheeps = [True,  True,  True,  False,\n",
    "  True,  True,  True,  True ,\n",
    "  True,  False, True,  False,\n",
    "  True,  False, False, True ,\n",
    "  True,  True,  True,  True ,\n",
    "  False, False, True,  True]\n",
    "\n",
    "\n",
    "def counting_sheeps(x):\n",
    "    num_count = 0\n",
    "    for i in sheeps:\n",
    "        if i== True:\n",
    "            num_count+= 1\n",
    "    return num_count\n",
    "\n",
    "counting_sheeps(sheeps)"
   ]
  },
  {
   "cell_type": "code",
   "execution_count": 5,
   "id": "26b1d027",
   "metadata": {},
   "outputs": [
    {
     "name": "stdout",
     "output_type": "stream",
     "text": [
      "['Keep', 'Keep', 'Remove', 'Keep']\n",
      "['Allo', 'Allo']\n"
     ]
    }
   ],
   "source": [
    "# Removing Elements\n",
    "\n",
    "list_3 = [\"Keep\", \"Remove\", \"Keep\", \"Remove\", \"Keep\"]\n",
    "\n",
    "def okidoki(x):\n",
    "    x.remove(x[1])\n",
    "    print(x)\n",
    "    \n",
    "list_3 = [\"Keep\", \"Remove\", \"Keep\", \"Remove\", \"Keep\"]\n",
    "\n",
    "okidoki(list_3)\n",
    "\n",
    "list_4 = [\"Allo\",\"Ola\",\"Allo\"]\n",
    "okidoki(list_4)\n"
   ]
  },
  {
   "cell_type": "code",
   "execution_count": 43,
   "id": "cf9c420a",
   "metadata": {},
   "outputs": [
    {
     "name": "stdout",
     "output_type": "stream",
     "text": [
      "Enter a number :1234\n"
     ]
    },
    {
     "data": {
      "text/plain": [
       "['4', '3', '2', '1']"
      ]
     },
     "execution_count": 43,
     "metadata": {},
     "output_type": "execute_result"
    }
   ],
   "source": [
    "# Convert number to reversed array of digits\n",
    "\n",
    "#35231 => [1,3,2,5,3]\n",
    "#0 => [0]\n",
    "\n",
    "list_a = []\n",
    "\n",
    "def ikodiko(x):\n",
    "    a = str(x)\n",
    "    for i in a:\n",
    "        list_a.append(i)\n",
    "        #list_a.reverse()\n",
    "        \n",
    "    return list_a[::-1]\n",
    "\n",
    "x = int(input(\"Enter a number :\"))\n",
    "ikodiko(x)"
   ]
  },
  {
   "cell_type": "code",
   "execution_count": 86,
   "id": "a59e30bf",
   "metadata": {},
   "outputs": [
    {
     "name": "stdout",
     "output_type": "stream",
     "text": [
      "[36, 25, 9, 4, 64, 81, 4]\n",
      "<class 'int'>\n"
     ]
    }
   ],
   "source": [
    "# Square every digit\n",
    "\n",
    "list1 = []\n",
    "list2 = []\n",
    "def okiko(x):\n",
    "    a = str(x)\n",
    "    for i in a:\n",
    "        b= int(i)\n",
    "        list1.append(b)\n",
    "        for y in list1:\n",
    "            a = y**2\n",
    "        str(a)\n",
    "        list2.append(a)\n",
    "    print(list2)\n",
    "    print(type(list1[0]))\n",
    "            \n",
    "#        i*i\n",
    "#        str(i)\n",
    "#        list1.append(i)\n",
    "    \n",
    "okiko(6532892)\n",
    "#3452\n",
    "#- convert the integer to a string \n",
    "#- split the string \n",
    "#- create a for loop for every item in the list, square every element of the list\n",
    "#- join the element from the list\n",
    "#- covert the element back to an integer\n"
   ]
  },
  {
   "cell_type": "code",
   "execution_count": 28,
   "id": "d42b6412",
   "metadata": {},
   "outputs": [
    {
     "data": {
      "text/plain": [
       "'d'"
      ]
     },
     "execution_count": 28,
     "metadata": {},
     "output_type": "execute_result"
    }
   ],
   "source": [
    "# a fini"
   ]
  },
  {
   "cell_type": "code",
   "execution_count": null,
   "id": "76535c51",
   "metadata": {},
   "outputs": [],
   "source": []
  },
  {
   "cell_type": "code",
   "execution_count": null,
   "id": "f3e2cf6f",
   "metadata": {},
   "outputs": [],
   "source": [
    "# Counting Total Occurence Of Specific Digits"
   ]
  }
 ],
 "metadata": {
  "kernelspec": {
   "display_name": "Python 3 (ipykernel)",
   "language": "python",
   "name": "python3"
  },
  "language_info": {
   "codemirror_mode": {
    "name": "ipython",
    "version": 3
   },
   "file_extension": ".py",
   "mimetype": "text/x-python",
   "name": "python",
   "nbconvert_exporter": "python",
   "pygments_lexer": "ipython3",
   "version": "3.9.13"
  }
 },
 "nbformat": 4,
 "nbformat_minor": 5
}
