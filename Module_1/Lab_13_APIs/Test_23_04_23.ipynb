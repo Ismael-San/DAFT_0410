{
 "cells": [
  {
   "cell_type": "code",
   "execution_count": 1,
   "id": "3ba8b55b",
   "metadata": {},
   "outputs": [],
   "source": [
    "import re"
   ]
  },
  {
   "cell_type": "code",
   "execution_count": 8,
   "id": "ce3a10a6",
   "metadata": {},
   "outputs": [
    {
     "data": {
      "text/plain": [
       "[('a', 0),\n",
       " ('a', 1),\n",
       " ('a', 2),\n",
       " ('a', 3),\n",
       " ('b', 0),\n",
       " ('b', 1),\n",
       " ('b', 2),\n",
       " ('b', 3),\n",
       " ('c', 0),\n",
       " ('c', 1),\n",
       " ('c', 2),\n",
       " ('c', 3),\n",
       " ('d', 0),\n",
       " ('d', 1),\n",
       " ('d', 2),\n",
       " ('d', 3)]"
      ]
     },
     "execution_count": 8,
     "metadata": {},
     "output_type": "execute_result"
    }
   ],
   "source": [
    "\n",
    "\n",
    "nums = [0,1,2,3,4,5,6,7,8,9,10]\n",
    "my_list = []\n",
    "# I want n+2 for n in nums\n",
    "#my_list = [n*2 for n in nums]\n",
    "#my_list\n",
    "\n",
    "#I want 'n' for each 'n' in nums if 'n' is even\n",
    "#my_list = [n for n in nums if n%2 == 0]\n",
    "#my_list\n",
    "\n",
    "## I want a (letter, num) pair for each letter in 'abcd' and each number in '0123'\n",
    "my_list = [(letter,num) for letter in 'abcd' for num in range(4)]\n",
    "my_list"
   ]
  },
  {
   "cell_type": "code",
   "execution_count": 9,
   "id": "caf9393e",
   "metadata": {},
   "outputs": [
    {
     "data": {
      "text/plain": [
       "{'name': 'John', 'age': 36, 'country': 'Norway'}"
      ]
     },
     "execution_count": 9,
     "metadata": {},
     "output_type": "execute_result"
    }
   ],
   "source": [
    "thisdict = dict(name = \"John\", age = 36, country = \"Norway\")\n",
    "thisdict"
   ]
  },
  {
   "cell_type": "code",
   "execution_count": 15,
   "id": "938ae313",
   "metadata": {},
   "outputs": [
    {
     "data": {
      "text/plain": [
       "['Ma', 'maison']"
      ]
     },
     "execution_count": 15,
     "metadata": {},
     "output_type": "execute_result"
    }
   ],
   "source": [
    "a = 'Ma'\n",
    "b = 'maison'\n",
    "c = [a,b]\n",
    "c"
   ]
  },
  {
   "cell_type": "code",
   "execution_count": 18,
   "id": "07d042c6",
   "metadata": {},
   "outputs": [
    {
     "data": {
      "text/plain": [
       "'Ma maison'"
      ]
     },
     "execution_count": 18,
     "metadata": {},
     "output_type": "execute_result"
    }
   ],
   "source": [
    "' '.join(c)"
   ]
  },
  {
   "cell_type": "code",
   "execution_count": 14,
   "id": "1120cddb",
   "metadata": {},
   "outputs": [],
   "source": [
    "d = 'I have a tendency to leave 6,7,8 trailing spaces.'"
   ]
  },
  {
   "cell_type": "code",
   "execution_count": 34,
   "id": "f5051779",
   "metadata": {},
   "outputs": [
    {
     "name": "stdout",
     "output_type": "stream",
     "text": [
      "I have a tendency to leave trailing spaces. \n"
     ]
    }
   ],
   "source": [
    "print(d.lstrip())"
   ]
  },
  {
   "cell_type": "code",
   "execution_count": 21,
   "id": "1d51cc76",
   "metadata": {},
   "outputs": [
    {
     "name": "stdout",
     "output_type": "stream",
     "text": [
      "['I', 'h', 'a', 'v', 'e', 'a', 't', 'e', 'n', 'd', 'e', 'n', 'c', 'y', 't', 'o', 'l', 'e', 'a', 'v', 'e', '6', ',', '7', ',', '8', 't', 'r', 'a', 'i', 'l', 'i', 'n', 'g', 's', 'p', 'a', 'c', 'e', 's', '.']\n"
     ]
    },
    {
     "data": {
      "text/plain": [
       "['I', 'have', 'a', 'tendency', 'to', 'leave', '6,7,8', 'trailing', 'spaces.']"
      ]
     },
     "execution_count": 21,
     "metadata": {},
     "output_type": "execute_result"
    }
   ],
   "source": [
    "print(re.findall('[\\S]',d))\n",
    "d.split(' ')"
   ]
  },
  {
   "cell_type": "code",
   "execution_count": 30,
   "id": "6d108af6",
   "metadata": {},
   "outputs": [
    {
     "data": {
      "text/plain": [
       "['e', 'r', 'e', 'r', 'r', 'e', 'r', 'e', 'r']"
      ]
     },
     "execution_count": 30,
     "metadata": {},
     "output_type": "execute_result"
    }
   ],
   "source": [
    "text = \"That person wears marvelous trousers.\"\n",
    "\n",
    "pattern = '[er]'\n",
    "re.findall(pattern, text)\n"
   ]
  },
  {
   "cell_type": "code",
   "execution_count": null,
   "id": "10954300",
   "metadata": {},
   "outputs": [],
   "source": []
  }
 ],
 "metadata": {
  "kernelspec": {
   "display_name": "Python 3 (ipykernel)",
   "language": "python",
   "name": "python3"
  },
  "language_info": {
   "codemirror_mode": {
    "name": "ipython",
    "version": 3
   },
   "file_extension": ".py",
   "mimetype": "text/x-python",
   "name": "python",
   "nbconvert_exporter": "python",
   "pygments_lexer": "ipython3",
   "version": "3.9.13"
  }
 },
 "nbformat": 4,
 "nbformat_minor": 5
}
