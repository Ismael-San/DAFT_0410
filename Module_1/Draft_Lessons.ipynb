{
 "cells": [
  {
   "cell_type": "code",
   "execution_count": 46,
   "id": "afd98c91",
   "metadata": {},
   "outputs": [],
   "source": [
    "from functools import reduce\n",
    "import numpy as np\n",
    "import pandas as pd"
   ]
  },
  {
   "cell_type": "code",
   "execution_count": 2,
   "id": "48bcc942",
   "metadata": {},
   "outputs": [],
   "source": [
    "def half(x):\n",
    "    return x / 2"
   ]
  },
  {
   "cell_type": "code",
   "execution_count": 14,
   "id": "259f41c0",
   "metadata": {},
   "outputs": [
    {
     "data": {
      "text/plain": [
       "<map at 0x7fdd98448f10>"
      ]
     },
     "execution_count": 14,
     "metadata": {},
     "output_type": "execute_result"
    }
   ],
   "source": [
    "l = [10, 12, 34, 23]\n",
    "map(half, l)"
   ]
  },
  {
   "cell_type": "code",
   "execution_count": 18,
   "id": "7d656504",
   "metadata": {},
   "outputs": [
    {
     "data": {
      "text/plain": [
       "[5.0, 6.0, 17.0, 11.5]"
      ]
     },
     "execution_count": 18,
     "metadata": {},
     "output_type": "execute_result"
    }
   ],
   "source": [
    "list(map(half, l))"
   ]
  },
  {
   "cell_type": "code",
   "execution_count": 28,
   "id": "8cecab62",
   "metadata": {},
   "outputs": [
    {
     "data": {
      "text/plain": [
       "10"
      ]
     },
     "execution_count": 28,
     "metadata": {},
     "output_type": "execute_result"
    }
   ],
   "source": [
    "reduce(lambda x,y: y if x>y else x, l)"
   ]
  },
  {
   "cell_type": "code",
   "execution_count": null,
   "id": "364155ef",
   "metadata": {},
   "outputs": [],
   "source": []
  },
  {
   "cell_type": "code",
   "execution_count": 30,
   "id": "69220720",
   "metadata": {},
   "outputs": [
    {
     "data": {
      "text/plain": [
       "[23]"
      ]
     },
     "execution_count": 30,
     "metadata": {},
     "output_type": "execute_result"
    }
   ],
   "source": [
    "list(filter(lambda x: x % 2 == 1, l))"
   ]
  },
  {
   "cell_type": "code",
   "execution_count": 47,
   "id": "0cf62080",
   "metadata": {},
   "outputs": [],
   "source": [
    "colnames = ['Column1','Column2','Column3','Column4','Column5']"
   ]
  },
  {
   "cell_type": "code",
   "execution_count": 48,
   "id": "797e3fa4",
   "metadata": {},
   "outputs": [],
   "source": [
    "df = pd.DataFrame(np.random.random((10,5)), columns=colnames)"
   ]
  },
  {
   "cell_type": "code",
   "execution_count": 49,
   "id": "0bc6fb49",
   "metadata": {},
   "outputs": [
    {
     "data": {
      "text/html": [
       "<div>\n",
       "<style scoped>\n",
       "    .dataframe tbody tr th:only-of-type {\n",
       "        vertical-align: middle;\n",
       "    }\n",
       "\n",
       "    .dataframe tbody tr th {\n",
       "        vertical-align: top;\n",
       "    }\n",
       "\n",
       "    .dataframe thead th {\n",
       "        text-align: right;\n",
       "    }\n",
       "</style>\n",
       "<table border=\"1\" class=\"dataframe\">\n",
       "  <thead>\n",
       "    <tr style=\"text-align: right;\">\n",
       "      <th></th>\n",
       "      <th>Column1</th>\n",
       "      <th>Column2</th>\n",
       "      <th>Column3</th>\n",
       "      <th>Column4</th>\n",
       "      <th>Column5</th>\n",
       "    </tr>\n",
       "  </thead>\n",
       "  <tbody>\n",
       "    <tr>\n",
       "      <th>0</th>\n",
       "      <td>0.914242</td>\n",
       "      <td>0.647870</td>\n",
       "      <td>0.472620</td>\n",
       "      <td>0.582537</td>\n",
       "      <td>0.698674</td>\n",
       "    </tr>\n",
       "    <tr>\n",
       "      <th>1</th>\n",
       "      <td>0.566399</td>\n",
       "      <td>0.832791</td>\n",
       "      <td>0.333272</td>\n",
       "      <td>0.779494</td>\n",
       "      <td>0.456960</td>\n",
       "    </tr>\n",
       "    <tr>\n",
       "      <th>2</th>\n",
       "      <td>0.806736</td>\n",
       "      <td>0.106489</td>\n",
       "      <td>0.480014</td>\n",
       "      <td>0.385261</td>\n",
       "      <td>0.982973</td>\n",
       "    </tr>\n",
       "    <tr>\n",
       "      <th>3</th>\n",
       "      <td>0.615590</td>\n",
       "      <td>0.338433</td>\n",
       "      <td>0.792640</td>\n",
       "      <td>0.453397</td>\n",
       "      <td>0.746420</td>\n",
       "    </tr>\n",
       "    <tr>\n",
       "      <th>4</th>\n",
       "      <td>0.384572</td>\n",
       "      <td>0.063122</td>\n",
       "      <td>0.490084</td>\n",
       "      <td>0.448928</td>\n",
       "      <td>0.740284</td>\n",
       "    </tr>\n",
       "    <tr>\n",
       "      <th>5</th>\n",
       "      <td>0.640532</td>\n",
       "      <td>0.984637</td>\n",
       "      <td>0.922887</td>\n",
       "      <td>0.565447</td>\n",
       "      <td>0.448902</td>\n",
       "    </tr>\n",
       "    <tr>\n",
       "      <th>6</th>\n",
       "      <td>0.341541</td>\n",
       "      <td>0.169841</td>\n",
       "      <td>0.647174</td>\n",
       "      <td>0.868223</td>\n",
       "      <td>0.104391</td>\n",
       "    </tr>\n",
       "    <tr>\n",
       "      <th>7</th>\n",
       "      <td>0.769671</td>\n",
       "      <td>0.062278</td>\n",
       "      <td>0.964483</td>\n",
       "      <td>0.169254</td>\n",
       "      <td>0.810482</td>\n",
       "    </tr>\n",
       "    <tr>\n",
       "      <th>8</th>\n",
       "      <td>0.054201</td>\n",
       "      <td>0.270789</td>\n",
       "      <td>0.625496</td>\n",
       "      <td>0.274712</td>\n",
       "      <td>0.366148</td>\n",
       "    </tr>\n",
       "    <tr>\n",
       "      <th>9</th>\n",
       "      <td>0.911468</td>\n",
       "      <td>0.574275</td>\n",
       "      <td>0.212037</td>\n",
       "      <td>0.754346</td>\n",
       "      <td>0.618995</td>\n",
       "    </tr>\n",
       "  </tbody>\n",
       "</table>\n",
       "</div>"
      ],
      "text/plain": [
       "    Column1   Column2   Column3   Column4   Column5\n",
       "0  0.914242  0.647870  0.472620  0.582537  0.698674\n",
       "1  0.566399  0.832791  0.333272  0.779494  0.456960\n",
       "2  0.806736  0.106489  0.480014  0.385261  0.982973\n",
       "3  0.615590  0.338433  0.792640  0.453397  0.746420\n",
       "4  0.384572  0.063122  0.490084  0.448928  0.740284\n",
       "5  0.640532  0.984637  0.922887  0.565447  0.448902\n",
       "6  0.341541  0.169841  0.647174  0.868223  0.104391\n",
       "7  0.769671  0.062278  0.964483  0.169254  0.810482\n",
       "8  0.054201  0.270789  0.625496  0.274712  0.366148\n",
       "9  0.911468  0.574275  0.212037  0.754346  0.618995"
      ]
     },
     "execution_count": 49,
     "metadata": {},
     "output_type": "execute_result"
    }
   ],
   "source": [
    "df"
   ]
  },
  {
   "cell_type": "code",
   "execution_count": 52,
   "id": "d346c8bb",
   "metadata": {},
   "outputs": [
    {
     "data": {
      "text/plain": [
       "pandas.core.frame.DataFrame"
      ]
     },
     "execution_count": 52,
     "metadata": {},
     "output_type": "execute_result"
    }
   ],
   "source": [
    "type(df[[\"Column1\",\"Column2\",\"Column3\"]])"
   ]
  },
  {
   "cell_type": "code",
   "execution_count": 72,
   "id": "a0027f24",
   "metadata": {},
   "outputs": [],
   "source": [
    "dico_3 = {\"Eterle\":[23], \"REROR\":[43], \"ZORIR\":[19]}"
   ]
  },
  {
   "cell_type": "code",
   "execution_count": 94,
   "id": "56696c3b",
   "metadata": {},
   "outputs": [],
   "source": [
    "df_3 = pd.DataFrame(dico_3)\n",
    "df_4 = pd.DataFrame(dico_3).transpose()"
   ]
  },
  {
   "cell_type": "code",
   "execution_count": 97,
   "id": "2b7d0a46",
   "metadata": {},
   "outputs": [
    {
     "data": {
      "text/html": [
       "<div>\n",
       "<style scoped>\n",
       "    .dataframe tbody tr th:only-of-type {\n",
       "        vertical-align: middle;\n",
       "    }\n",
       "\n",
       "    .dataframe tbody tr th {\n",
       "        vertical-align: top;\n",
       "    }\n",
       "\n",
       "    .dataframe thead th {\n",
       "        text-align: right;\n",
       "    }\n",
       "</style>\n",
       "<table border=\"1\" class=\"dataframe\">\n",
       "  <thead>\n",
       "    <tr style=\"text-align: right;\">\n",
       "      <th></th>\n",
       "      <th>Eterle</th>\n",
       "      <th>REROR</th>\n",
       "      <th>ZORIR</th>\n",
       "    </tr>\n",
       "  </thead>\n",
       "  <tbody>\n",
       "    <tr>\n",
       "      <th>0</th>\n",
       "      <td>23</td>\n",
       "      <td>43</td>\n",
       "      <td>19</td>\n",
       "    </tr>\n",
       "  </tbody>\n",
       "</table>\n",
       "</div>"
      ],
      "text/plain": [
       "   Eterle  REROR  ZORIR\n",
       "0      23     43     19"
      ]
     },
     "execution_count": 97,
     "metadata": {},
     "output_type": "execute_result"
    }
   ],
   "source": [
    "#df_3.columns = [\"Age\"]\n",
    "df_3"
   ]
  },
  {
   "cell_type": "code",
   "execution_count": 118,
   "id": "08a26817",
   "metadata": {},
   "outputs": [
    {
     "data": {
      "text/html": [
       "<div>\n",
       "<style scoped>\n",
       "    .dataframe tbody tr th:only-of-type {\n",
       "        vertical-align: middle;\n",
       "    }\n",
       "\n",
       "    .dataframe tbody tr th {\n",
       "        vertical-align: top;\n",
       "    }\n",
       "\n",
       "    .dataframe thead th {\n",
       "        text-align: right;\n",
       "    }\n",
       "</style>\n",
       "<table border=\"1\" class=\"dataframe\">\n",
       "  <thead>\n",
       "    <tr style=\"text-align: right;\">\n",
       "      <th></th>\n",
       "      <th>0</th>\n",
       "    </tr>\n",
       "  </thead>\n",
       "  <tbody>\n",
       "    <tr>\n",
       "      <th>Eterle</th>\n",
       "      <td>23</td>\n",
       "    </tr>\n",
       "    <tr>\n",
       "      <th>REROR</th>\n",
       "      <td>43</td>\n",
       "    </tr>\n",
       "    <tr>\n",
       "      <th>ZORIR</th>\n",
       "      <td>19</td>\n",
       "    </tr>\n",
       "  </tbody>\n",
       "</table>\n",
       "</div>"
      ],
      "text/plain": [
       "         0\n",
       "Eterle  23\n",
       "REROR   43\n",
       "ZORIR   19"
      ]
     },
     "execution_count": 118,
     "metadata": {},
     "output_type": "execute_result"
    }
   ],
   "source": [
    "df_3 = pd.DataFrame.from_dict(dico_3, orient='index')\n",
    "df_3"
   ]
  },
  {
   "cell_type": "code",
   "execution_count": 122,
   "id": "965b48af",
   "metadata": {},
   "outputs": [
    {
     "data": {
      "text/html": [
       "<div>\n",
       "<style scoped>\n",
       "    .dataframe tbody tr th:only-of-type {\n",
       "        vertical-align: middle;\n",
       "    }\n",
       "\n",
       "    .dataframe tbody tr th {\n",
       "        vertical-align: top;\n",
       "    }\n",
       "\n",
       "    .dataframe thead th {\n",
       "        text-align: right;\n",
       "    }\n",
       "</style>\n",
       "<table border=\"1\" class=\"dataframe\">\n",
       "  <thead>\n",
       "    <tr style=\"text-align: right;\">\n",
       "      <th></th>\n",
       "      <th>Age</th>\n",
       "    </tr>\n",
       "  </thead>\n",
       "  <tbody>\n",
       "    <tr>\n",
       "      <th>Eterle</th>\n",
       "      <td>23</td>\n",
       "    </tr>\n",
       "    <tr>\n",
       "      <th>REROR</th>\n",
       "      <td>43</td>\n",
       "    </tr>\n",
       "    <tr>\n",
       "      <th>ZORIR</th>\n",
       "      <td>19</td>\n",
       "    </tr>\n",
       "  </tbody>\n",
       "</table>\n",
       "</div>"
      ],
      "text/plain": [
       "        Age\n",
       "Eterle   23\n",
       "REROR    43\n",
       "ZORIR    19"
      ]
     },
     "execution_count": 122,
     "metadata": {},
     "output_type": "execute_result"
    }
   ],
   "source": [
    "df_3.columns = [\"Age\"]\n",
    "df_3"
   ]
  },
  {
   "cell_type": "code",
   "execution_count": 106,
   "id": "824999c8",
   "metadata": {},
   "outputs": [
    {
     "data": {
      "text/html": [
       "<div>\n",
       "<style scoped>\n",
       "    .dataframe tbody tr th:only-of-type {\n",
       "        vertical-align: middle;\n",
       "    }\n",
       "\n",
       "    .dataframe tbody tr th {\n",
       "        vertical-align: top;\n",
       "    }\n",
       "\n",
       "    .dataframe thead th {\n",
       "        text-align: right;\n",
       "    }\n",
       "</style>\n",
       "<table border=\"1\" class=\"dataframe\">\n",
       "  <thead>\n",
       "    <tr style=\"text-align: right;\">\n",
       "      <th></th>\n",
       "      <th>Age</th>\n",
       "    </tr>\n",
       "  </thead>\n",
       "  <tbody>\n",
       "    <tr>\n",
       "      <th>Eterle</th>\n",
       "      <td>23</td>\n",
       "    </tr>\n",
       "    <tr>\n",
       "      <th>REROR</th>\n",
       "      <td>43</td>\n",
       "    </tr>\n",
       "    <tr>\n",
       "      <th>ZORIR</th>\n",
       "      <td>19</td>\n",
       "    </tr>\n",
       "  </tbody>\n",
       "</table>\n",
       "</div>"
      ],
      "text/plain": [
       "        Age\n",
       "Eterle   23\n",
       "REROR    43\n",
       "ZORIR    19"
      ]
     },
     "execution_count": 106,
     "metadata": {},
     "output_type": "execute_result"
    }
   ],
   "source": [
    "df_4"
   ]
  },
  {
   "cell_type": "code",
   "execution_count": 110,
   "id": "c5bd422d",
   "metadata": {},
   "outputs": [
    {
     "data": {
      "text/plain": [
       "28.333333333333332"
      ]
     },
     "execution_count": 110,
     "metadata": {},
     "output_type": "execute_result"
    }
   ],
   "source": [
    "df_4[\"Age\"].mean()"
   ]
  },
  {
   "cell_type": "code",
   "execution_count": 111,
   "id": "7e37768b",
   "metadata": {},
   "outputs": [],
   "source": [
    "df = pd.DataFrame(np.random.randn(4, 3), columns=['a', 'b', 'c'])"
   ]
  },
  {
   "cell_type": "code",
   "execution_count": 112,
   "id": "86c968dc",
   "metadata": {},
   "outputs": [
    {
     "data": {
      "text/html": [
       "<div>\n",
       "<style scoped>\n",
       "    .dataframe tbody tr th:only-of-type {\n",
       "        vertical-align: middle;\n",
       "    }\n",
       "\n",
       "    .dataframe tbody tr th {\n",
       "        vertical-align: top;\n",
       "    }\n",
       "\n",
       "    .dataframe thead th {\n",
       "        text-align: right;\n",
       "    }\n",
       "</style>\n",
       "<table border=\"1\" class=\"dataframe\">\n",
       "  <thead>\n",
       "    <tr style=\"text-align: right;\">\n",
       "      <th></th>\n",
       "      <th>a</th>\n",
       "      <th>b</th>\n",
       "      <th>c</th>\n",
       "    </tr>\n",
       "  </thead>\n",
       "  <tbody>\n",
       "    <tr>\n",
       "      <th>0</th>\n",
       "      <td>-0.166367</td>\n",
       "      <td>0.013969</td>\n",
       "      <td>-1.735718</td>\n",
       "    </tr>\n",
       "    <tr>\n",
       "      <th>1</th>\n",
       "      <td>0.121907</td>\n",
       "      <td>0.699236</td>\n",
       "      <td>0.529836</td>\n",
       "    </tr>\n",
       "    <tr>\n",
       "      <th>2</th>\n",
       "      <td>-0.044599</td>\n",
       "      <td>-0.304005</td>\n",
       "      <td>-1.024060</td>\n",
       "    </tr>\n",
       "    <tr>\n",
       "      <th>3</th>\n",
       "      <td>-0.356406</td>\n",
       "      <td>-2.081764</td>\n",
       "      <td>-0.340021</td>\n",
       "    </tr>\n",
       "  </tbody>\n",
       "</table>\n",
       "</div>"
      ],
      "text/plain": [
       "          a         b         c\n",
       "0 -0.166367  0.013969 -1.735718\n",
       "1  0.121907  0.699236  0.529836\n",
       "2 -0.044599 -0.304005 -1.024060\n",
       "3 -0.356406 -2.081764 -0.340021"
      ]
     },
     "execution_count": 112,
     "metadata": {},
     "output_type": "execute_result"
    }
   ],
   "source": [
    "df"
   ]
  },
  {
   "cell_type": "code",
   "execution_count": 116,
   "id": "a1f0803a",
   "metadata": {},
   "outputs": [
    {
     "data": {
      "text/plain": [
       "a   -0.445465\n",
       "b   -1.672564\n",
       "c   -2.569963\n",
       "dtype: float64"
      ]
     },
     "execution_count": 116,
     "metadata": {},
     "output_type": "execute_result"
    }
   ],
   "source": [
    "df.apply(sum)"
   ]
  }
 ],
 "metadata": {
  "kernelspec": {
   "display_name": "Python 3 (ipykernel)",
   "language": "python",
   "name": "python3"
  },
  "language_info": {
   "codemirror_mode": {
    "name": "ipython",
    "version": 3
   },
   "file_extension": ".py",
   "mimetype": "text/x-python",
   "name": "python",
   "nbconvert_exporter": "python",
   "pygments_lexer": "ipython3",
   "version": "3.9.13"
  }
 },
 "nbformat": 4,
 "nbformat_minor": 5
}
