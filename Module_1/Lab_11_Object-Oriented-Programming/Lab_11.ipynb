{
 "cells": [
  {
   "cell_type": "code",
   "execution_count": 10,
   "id": "487923f9",
   "metadata": {},
   "outputs": [
    {
     "name": "stdout",
     "output_type": "stream",
     "text": [
      "[5, 6, 7, 8]\n"
     ]
    }
   ],
   "source": [
    "#[1, 1, 2, 3, 1, 2, 3, 4], [1, 3] -> [2, 2, 4]\n",
    "#[1, 1, 2, 3, 1, 2, 3, 4, 4, 3, 5, 6, 7, 2, 8], [1, 3, 4, 2] -> [5, 6, 7, 8]\n",
    "#[8, 2, 7, 2, 3, 4, 6, 5, 4, 4, 1, 2, 3], [2, 4, 3] -> [8, 7, 6, 5, 1]\n",
    "\n",
    "u = []\n",
    "\n",
    "def okidoki(a,b):\n",
    "    for i in a:\n",
    "        if i not in b:\n",
    "            u.append(i)\n",
    "    print(u)\n",
    "\n",
    "            \n",
    "a = [1, 1, 2, 3, 1, 2, 3, 4, 4, 3, 5, 6, 7, 2, 8]\n",
    "b = [1, 3, 4, 2]\n",
    "\n",
    "okidoki(a,b)\n",
    "\n",
    "#Try with SET\n",
    "\n"
   ]
  },
  {
   "cell_type": "code",
   "execution_count": null,
   "id": "96ff9dbd",
   "metadata": {},
   "outputs": [],
   "source": []
  }
 ],
 "metadata": {
  "kernelspec": {
   "display_name": "Python 3 (ipykernel)",
   "language": "python",
   "name": "python3"
  },
  "language_info": {
   "codemirror_mode": {
    "name": "ipython",
    "version": 3
   },
   "file_extension": ".py",
   "mimetype": "text/x-python",
   "name": "python",
   "nbconvert_exporter": "python",
   "pygments_lexer": "ipython3",
   "version": "3.9.13"
  }
 },
 "nbformat": 4,
 "nbformat_minor": 5
}
