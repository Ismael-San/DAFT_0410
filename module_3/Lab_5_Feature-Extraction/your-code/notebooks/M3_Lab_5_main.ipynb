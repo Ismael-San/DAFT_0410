{
 "cells": [
  {
   "cell_type": "markdown",
   "metadata": {
    "id": "2ZTc5VXDfhbh"
   },
   "source": [
    "# Before your start:\n",
    "- Read the README.md file\n",
    "- Comment as much as you can and use the resources in the README.md file\n",
    "- Happy learning!"
   ]
  },
  {
   "cell_type": "code",
   "execution_count": 67,
   "metadata": {
    "id": "i5noFtjbfhbs"
   },
   "outputs": [],
   "source": [
    "#Import your libraries\n",
    "\n",
    "import numpy as np\n",
    "import pandas as pd\n",
    "import re"
   ]
  },
  {
   "cell_type": "markdown",
   "metadata": {
    "id": "14Y2pxPxfhbv"
   },
   "source": [
    "# Introduction\n",
    "\n",
    "In this lab, we will use two datasets. Both datasets contain variables that describe apps from the Google Play Store. We will use our knowledge in feature extraction to process these datasets and prepare them for the use of a ML algorithm."
   ]
  },
  {
   "cell_type": "markdown",
   "metadata": {
    "id": "hwvi18ARfhbx"
   },
   "source": [
    "# Challenge 1 - Loading and Extracting Features from the First Dataset"
   ]
  },
  {
   "cell_type": "markdown",
   "metadata": {
    "id": "xDmBR6W3fhby"
   },
   "source": [
    "#### In this challenge, our goals are: \n",
    "\n",
    "* Exploring the dataset.\n",
    "* Identify the columns with missing values.\n",
    "* Either replacing the missing values in each column or drop the columns.\n",
    "* Conver each column to the appropriate type."
   ]
  },
  {
   "cell_type": "markdown",
   "metadata": {
    "id": "3C6aY7wzfhbz"
   },
   "source": [
    "#### The first dataset contains different information describing the apps. \n",
    "\n",
    "Load the dataset into the variable `google_play` in the cell below. The dataset is in the file `googleplaystore.csv`"
   ]
  },
  {
   "cell_type": "code",
   "execution_count": 2,
   "metadata": {
    "id": "mdOKsqcwfhb0"
   },
   "outputs": [],
   "source": [
    "# Your code here:\n",
    "\n",
    "google_play = pd.read_csv('/Users/ismaelcisse/IronHack_labs/DAFT_0410/module_3/Lab_5_Feature-Extraction/data/googleplaystore.csv')"
   ]
  },
  {
   "cell_type": "markdown",
   "metadata": {
    "id": "Gmuu6N0Vfhb2"
   },
   "source": [
    "#### Examine all variables and their types in the following cell"
   ]
  },
  {
   "cell_type": "code",
   "execution_count": 4,
   "metadata": {
    "id": "2BsicbPUfhb3"
   },
   "outputs": [
    {
     "data": {
      "text/plain": [
       "App                object\n",
       "Category           object\n",
       "Rating            float64\n",
       "Reviews            object\n",
       "Size               object\n",
       "Installs           object\n",
       "Type               object\n",
       "Price              object\n",
       "Content Rating     object\n",
       "Genres             object\n",
       "Last Updated       object\n",
       "Current Ver        object\n",
       "Android Ver        object\n",
       "dtype: object"
      ]
     },
     "execution_count": 4,
     "metadata": {},
     "output_type": "execute_result"
    }
   ],
   "source": [
    "# Your code here:\n",
    "google_play.dtypes"
   ]
  },
  {
   "cell_type": "markdown",
   "metadata": {
    "id": "t6pMZohgfhb5"
   },
   "source": [
    "#### Since this dataset only contains one numeric column, let's skip the `describe()` function and look at the first 5 rows using the `head()` function"
   ]
  },
  {
   "cell_type": "code",
   "execution_count": 5,
   "metadata": {
    "id": "bwaLYF25fhb6"
   },
   "outputs": [
    {
     "data": {
      "text/html": [
       "<div>\n",
       "<style scoped>\n",
       "    .dataframe tbody tr th:only-of-type {\n",
       "        vertical-align: middle;\n",
       "    }\n",
       "\n",
       "    .dataframe tbody tr th {\n",
       "        vertical-align: top;\n",
       "    }\n",
       "\n",
       "    .dataframe thead th {\n",
       "        text-align: right;\n",
       "    }\n",
       "</style>\n",
       "<table border=\"1\" class=\"dataframe\">\n",
       "  <thead>\n",
       "    <tr style=\"text-align: right;\">\n",
       "      <th></th>\n",
       "      <th>App</th>\n",
       "      <th>Category</th>\n",
       "      <th>Rating</th>\n",
       "      <th>Reviews</th>\n",
       "      <th>Size</th>\n",
       "      <th>Installs</th>\n",
       "      <th>Type</th>\n",
       "      <th>Price</th>\n",
       "      <th>Content Rating</th>\n",
       "      <th>Genres</th>\n",
       "      <th>Last Updated</th>\n",
       "      <th>Current Ver</th>\n",
       "      <th>Android Ver</th>\n",
       "    </tr>\n",
       "  </thead>\n",
       "  <tbody>\n",
       "    <tr>\n",
       "      <th>0</th>\n",
       "      <td>Photo Editor &amp; Candy Camera &amp; Grid &amp; ScrapBook</td>\n",
       "      <td>ART_AND_DESIGN</td>\n",
       "      <td>4.1</td>\n",
       "      <td>159</td>\n",
       "      <td>19M</td>\n",
       "      <td>10,000+</td>\n",
       "      <td>Free</td>\n",
       "      <td>0</td>\n",
       "      <td>Everyone</td>\n",
       "      <td>Art &amp; Design</td>\n",
       "      <td>January 7, 2018</td>\n",
       "      <td>1.0.0</td>\n",
       "      <td>4.0.3 and up</td>\n",
       "    </tr>\n",
       "    <tr>\n",
       "      <th>1</th>\n",
       "      <td>Coloring book moana</td>\n",
       "      <td>ART_AND_DESIGN</td>\n",
       "      <td>3.9</td>\n",
       "      <td>967</td>\n",
       "      <td>14M</td>\n",
       "      <td>500,000+</td>\n",
       "      <td>Free</td>\n",
       "      <td>0</td>\n",
       "      <td>Everyone</td>\n",
       "      <td>Art &amp; Design;Pretend Play</td>\n",
       "      <td>January 15, 2018</td>\n",
       "      <td>2.0.0</td>\n",
       "      <td>4.0.3 and up</td>\n",
       "    </tr>\n",
       "    <tr>\n",
       "      <th>2</th>\n",
       "      <td>U Launcher Lite – FREE Live Cool Themes, Hide ...</td>\n",
       "      <td>ART_AND_DESIGN</td>\n",
       "      <td>4.7</td>\n",
       "      <td>87510</td>\n",
       "      <td>8.7M</td>\n",
       "      <td>5,000,000+</td>\n",
       "      <td>Free</td>\n",
       "      <td>0</td>\n",
       "      <td>Everyone</td>\n",
       "      <td>Art &amp; Design</td>\n",
       "      <td>August 1, 2018</td>\n",
       "      <td>1.2.4</td>\n",
       "      <td>4.0.3 and up</td>\n",
       "    </tr>\n",
       "    <tr>\n",
       "      <th>3</th>\n",
       "      <td>Sketch - Draw &amp; Paint</td>\n",
       "      <td>ART_AND_DESIGN</td>\n",
       "      <td>4.5</td>\n",
       "      <td>215644</td>\n",
       "      <td>25M</td>\n",
       "      <td>50,000,000+</td>\n",
       "      <td>Free</td>\n",
       "      <td>0</td>\n",
       "      <td>Teen</td>\n",
       "      <td>Art &amp; Design</td>\n",
       "      <td>June 8, 2018</td>\n",
       "      <td>Varies with device</td>\n",
       "      <td>4.2 and up</td>\n",
       "    </tr>\n",
       "    <tr>\n",
       "      <th>4</th>\n",
       "      <td>Pixel Draw - Number Art Coloring Book</td>\n",
       "      <td>ART_AND_DESIGN</td>\n",
       "      <td>4.3</td>\n",
       "      <td>967</td>\n",
       "      <td>2.8M</td>\n",
       "      <td>100,000+</td>\n",
       "      <td>Free</td>\n",
       "      <td>0</td>\n",
       "      <td>Everyone</td>\n",
       "      <td>Art &amp; Design;Creativity</td>\n",
       "      <td>June 20, 2018</td>\n",
       "      <td>1.1</td>\n",
       "      <td>4.4 and up</td>\n",
       "    </tr>\n",
       "  </tbody>\n",
       "</table>\n",
       "</div>"
      ],
      "text/plain": [
       "                                                 App        Category  Rating  \\\n",
       "0     Photo Editor & Candy Camera & Grid & ScrapBook  ART_AND_DESIGN     4.1   \n",
       "1                                Coloring book moana  ART_AND_DESIGN     3.9   \n",
       "2  U Launcher Lite – FREE Live Cool Themes, Hide ...  ART_AND_DESIGN     4.7   \n",
       "3                              Sketch - Draw & Paint  ART_AND_DESIGN     4.5   \n",
       "4              Pixel Draw - Number Art Coloring Book  ART_AND_DESIGN     4.3   \n",
       "\n",
       "  Reviews  Size     Installs  Type Price Content Rating  \\\n",
       "0     159   19M      10,000+  Free     0       Everyone   \n",
       "1     967   14M     500,000+  Free     0       Everyone   \n",
       "2   87510  8.7M   5,000,000+  Free     0       Everyone   \n",
       "3  215644   25M  50,000,000+  Free     0           Teen   \n",
       "4     967  2.8M     100,000+  Free     0       Everyone   \n",
       "\n",
       "                      Genres      Last Updated         Current Ver  \\\n",
       "0               Art & Design   January 7, 2018               1.0.0   \n",
       "1  Art & Design;Pretend Play  January 15, 2018               2.0.0   \n",
       "2               Art & Design    August 1, 2018               1.2.4   \n",
       "3               Art & Design      June 8, 2018  Varies with device   \n",
       "4    Art & Design;Creativity     June 20, 2018                 1.1   \n",
       "\n",
       "    Android Ver  \n",
       "0  4.0.3 and up  \n",
       "1  4.0.3 and up  \n",
       "2  4.0.3 and up  \n",
       "3    4.2 and up  \n",
       "4    4.4 and up  "
      ]
     },
     "execution_count": 5,
     "metadata": {},
     "output_type": "execute_result"
    }
   ],
   "source": [
    "# Your code here:\n",
    "google_play.head()"
   ]
  },
  {
   "cell_type": "markdown",
   "metadata": {
    "id": "cCzO2eA-fhb7"
   },
   "source": [
    "#### We can see that there are a few columns that could be coerced to numeric.\n",
    "\n",
    "Start with the reviews column. We can evaluate what value is causing this column to be of object type finding the non-numeric values in this column. To do this, we recall the `to_numeric()` function. With this function, we are able to coerce all non-numeric data to null. We can then use the `isnull()` function to subset our dataframe using the True/False column that this function generates.\n",
    "\n",
    "In the cell below, transform the Reviews column to numeric and assign this new column to the variable `Reviews_numeric`. Make sure to coerce the errors."
   ]
  },
  {
   "cell_type": "code",
   "execution_count": 11,
   "metadata": {
    "id": "cInA2NE2fhb8"
   },
   "outputs": [],
   "source": [
    "# Your code here:\n",
    "google_play['Reviews_numeric'] = google_play[['Reviews']].applymap(lambda x: pd.to_numeric(x, errors='coerce'))"
   ]
  },
  {
   "cell_type": "code",
   "execution_count": 16,
   "metadata": {},
   "outputs": [
    {
     "data": {
      "text/plain": [
       "Reviews_numeric    float64\n",
       "dtype: object"
      ]
     },
     "execution_count": 16,
     "metadata": {},
     "output_type": "execute_result"
    }
   ],
   "source": [
    "google_play[['Reviews_numeric']].dtypes"
   ]
  },
  {
   "cell_type": "code",
   "execution_count": 17,
   "metadata": {},
   "outputs": [
    {
     "data": {
      "text/plain": [
       "Reviews_numeric\n",
       "0.0                596\n",
       "1.0                272\n",
       "2.0                214\n",
       "3.0                175\n",
       "4.0                137\n",
       "                  ... \n",
       "15693.0              1\n",
       "15681.0              1\n",
       "15680.0              1\n",
       "15674.0              1\n",
       "78158306.0           1\n",
       "Length: 6001, dtype: int64"
      ]
     },
     "execution_count": 17,
     "metadata": {},
     "output_type": "execute_result"
    }
   ],
   "source": [
    "google_play[['Reviews_numeric']].value_counts()"
   ]
  },
  {
   "cell_type": "code",
   "execution_count": 36,
   "metadata": {},
   "outputs": [
    {
     "data": {
      "text/plain": [
       "array([1.59000e+02, 9.67000e+02, 8.75100e+04, ..., 6.03000e+02,\n",
       "       1.19500e+03, 3.98307e+05])"
      ]
     },
     "execution_count": 36,
     "metadata": {},
     "output_type": "execute_result"
    }
   ],
   "source": [
    "google_play['Reviews_numeric'].unique()"
   ]
  },
  {
   "cell_type": "code",
   "execution_count": 40,
   "metadata": {},
   "outputs": [
    {
     "data": {
      "text/plain": [
       "0"
      ]
     },
     "execution_count": 40,
     "metadata": {},
     "output_type": "execute_result"
    }
   ],
   "source": [
    "google_play['Reviews'].isnull().sum()"
   ]
  },
  {
   "cell_type": "markdown",
   "metadata": {
    "id": "j1W0fmqmfhb9"
   },
   "source": [
    "Next, create a column containing True/False values using the `isnull()` function. Assign this column to the `Reviews_isnull` variable."
   ]
  },
  {
   "cell_type": "code",
   "execution_count": 96,
   "metadata": {
    "id": "LGX4U6Pyfhb-"
   },
   "outputs": [],
   "source": [
    "# Your code here:\n",
    "google_play[\"Reviews_isnull\"] = google_play['Reviews'].isnull()\n",
    "Reviews_isnull = google_play.loc[google_play['Reviews_numeric'].isnull()]"
   ]
  },
  {
   "cell_type": "code",
   "execution_count": 97,
   "metadata": {},
   "outputs": [
    {
     "data": {
      "text/html": [
       "<div>\n",
       "<style scoped>\n",
       "    .dataframe tbody tr th:only-of-type {\n",
       "        vertical-align: middle;\n",
       "    }\n",
       "\n",
       "    .dataframe tbody tr th {\n",
       "        vertical-align: top;\n",
       "    }\n",
       "\n",
       "    .dataframe thead th {\n",
       "        text-align: right;\n",
       "    }\n",
       "</style>\n",
       "<table border=\"1\" class=\"dataframe\">\n",
       "  <thead>\n",
       "    <tr style=\"text-align: right;\">\n",
       "      <th></th>\n",
       "      <th>Reviews_isnull</th>\n",
       "    </tr>\n",
       "  </thead>\n",
       "  <tbody>\n",
       "    <tr>\n",
       "      <th>0</th>\n",
       "      <td>False</td>\n",
       "    </tr>\n",
       "    <tr>\n",
       "      <th>1</th>\n",
       "      <td>False</td>\n",
       "    </tr>\n",
       "    <tr>\n",
       "      <th>2</th>\n",
       "      <td>False</td>\n",
       "    </tr>\n",
       "    <tr>\n",
       "      <th>3</th>\n",
       "      <td>False</td>\n",
       "    </tr>\n",
       "    <tr>\n",
       "      <th>4</th>\n",
       "      <td>False</td>\n",
       "    </tr>\n",
       "    <tr>\n",
       "      <th>...</th>\n",
       "      <td>...</td>\n",
       "    </tr>\n",
       "    <tr>\n",
       "      <th>10836</th>\n",
       "      <td>False</td>\n",
       "    </tr>\n",
       "    <tr>\n",
       "      <th>10837</th>\n",
       "      <td>False</td>\n",
       "    </tr>\n",
       "    <tr>\n",
       "      <th>10838</th>\n",
       "      <td>False</td>\n",
       "    </tr>\n",
       "    <tr>\n",
       "      <th>10839</th>\n",
       "      <td>False</td>\n",
       "    </tr>\n",
       "    <tr>\n",
       "      <th>10840</th>\n",
       "      <td>False</td>\n",
       "    </tr>\n",
       "  </tbody>\n",
       "</table>\n",
       "<p>10841 rows × 1 columns</p>\n",
       "</div>"
      ],
      "text/plain": [
       "       Reviews_isnull\n",
       "0               False\n",
       "1               False\n",
       "2               False\n",
       "3               False\n",
       "4               False\n",
       "...               ...\n",
       "10836           False\n",
       "10837           False\n",
       "10838           False\n",
       "10839           False\n",
       "10840           False\n",
       "\n",
       "[10841 rows x 1 columns]"
      ]
     },
     "execution_count": 97,
     "metadata": {},
     "output_type": "execute_result"
    }
   ],
   "source": [
    "google_play[[\"Reviews_isnull\"]]"
   ]
  },
  {
   "cell_type": "code",
   "execution_count": 99,
   "metadata": {},
   "outputs": [
    {
     "data": {
      "text/plain": [
       "0        False\n",
       "1        False\n",
       "2        False\n",
       "3        False\n",
       "4        False\n",
       "         ...  \n",
       "10836    False\n",
       "10837    False\n",
       "10838    False\n",
       "10839    False\n",
       "10840    False\n",
       "Name: Reviews_isnull, Length: 10841, dtype: bool"
      ]
     },
     "execution_count": 99,
     "metadata": {},
     "output_type": "execute_result"
    }
   ],
   "source": [
    "google_play['Reviews_isnull']"
   ]
  },
  {
   "cell_type": "code",
   "execution_count": 100,
   "metadata": {},
   "outputs": [
    {
     "data": {
      "text/html": [
       "<div>\n",
       "<style scoped>\n",
       "    .dataframe tbody tr th:only-of-type {\n",
       "        vertical-align: middle;\n",
       "    }\n",
       "\n",
       "    .dataframe tbody tr th {\n",
       "        vertical-align: top;\n",
       "    }\n",
       "\n",
       "    .dataframe thead th {\n",
       "        text-align: right;\n",
       "    }\n",
       "</style>\n",
       "<table border=\"1\" class=\"dataframe\">\n",
       "  <thead>\n",
       "    <tr style=\"text-align: right;\">\n",
       "      <th></th>\n",
       "      <th>App</th>\n",
       "      <th>Category</th>\n",
       "      <th>Rating</th>\n",
       "      <th>Reviews</th>\n",
       "      <th>Size</th>\n",
       "      <th>Installs</th>\n",
       "      <th>Type</th>\n",
       "      <th>Price</th>\n",
       "      <th>Content Rating</th>\n",
       "      <th>Genres</th>\n",
       "      <th>Last Updated</th>\n",
       "      <th>Current Ver</th>\n",
       "      <th>Android Ver</th>\n",
       "      <th>Reviews_numeric</th>\n",
       "      <th>Reviews_isnull</th>\n",
       "    </tr>\n",
       "  </thead>\n",
       "  <tbody>\n",
       "    <tr>\n",
       "      <th>0</th>\n",
       "      <td>Photo Editor &amp; Candy Camera &amp; Grid &amp; ScrapBook</td>\n",
       "      <td>ART_AND_DESIGN</td>\n",
       "      <td>4.1</td>\n",
       "      <td>159</td>\n",
       "      <td>19M</td>\n",
       "      <td>10,000+</td>\n",
       "      <td>Free</td>\n",
       "      <td>0</td>\n",
       "      <td>Everyone</td>\n",
       "      <td>Art &amp; Design</td>\n",
       "      <td>January 7, 2018</td>\n",
       "      <td>1.0.0</td>\n",
       "      <td>4.0.3 and up</td>\n",
       "      <td>159.0</td>\n",
       "      <td>False</td>\n",
       "    </tr>\n",
       "    <tr>\n",
       "      <th>1</th>\n",
       "      <td>Coloring book moana</td>\n",
       "      <td>ART_AND_DESIGN</td>\n",
       "      <td>3.9</td>\n",
       "      <td>967</td>\n",
       "      <td>14M</td>\n",
       "      <td>500,000+</td>\n",
       "      <td>Free</td>\n",
       "      <td>0</td>\n",
       "      <td>Everyone</td>\n",
       "      <td>Art &amp; Design;Pretend Play</td>\n",
       "      <td>January 15, 2018</td>\n",
       "      <td>2.0.0</td>\n",
       "      <td>4.0.3 and up</td>\n",
       "      <td>967.0</td>\n",
       "      <td>False</td>\n",
       "    </tr>\n",
       "    <tr>\n",
       "      <th>2</th>\n",
       "      <td>U Launcher Lite – FREE Live Cool Themes, Hide ...</td>\n",
       "      <td>ART_AND_DESIGN</td>\n",
       "      <td>4.7</td>\n",
       "      <td>87510</td>\n",
       "      <td>8.7M</td>\n",
       "      <td>5,000,000+</td>\n",
       "      <td>Free</td>\n",
       "      <td>0</td>\n",
       "      <td>Everyone</td>\n",
       "      <td>Art &amp; Design</td>\n",
       "      <td>August 1, 2018</td>\n",
       "      <td>1.2.4</td>\n",
       "      <td>4.0.3 and up</td>\n",
       "      <td>87510.0</td>\n",
       "      <td>False</td>\n",
       "    </tr>\n",
       "    <tr>\n",
       "      <th>3</th>\n",
       "      <td>Sketch - Draw &amp; Paint</td>\n",
       "      <td>ART_AND_DESIGN</td>\n",
       "      <td>4.5</td>\n",
       "      <td>215644</td>\n",
       "      <td>25M</td>\n",
       "      <td>50,000,000+</td>\n",
       "      <td>Free</td>\n",
       "      <td>0</td>\n",
       "      <td>Teen</td>\n",
       "      <td>Art &amp; Design</td>\n",
       "      <td>June 8, 2018</td>\n",
       "      <td>Varies with device</td>\n",
       "      <td>4.2 and up</td>\n",
       "      <td>215644.0</td>\n",
       "      <td>False</td>\n",
       "    </tr>\n",
       "    <tr>\n",
       "      <th>4</th>\n",
       "      <td>Pixel Draw - Number Art Coloring Book</td>\n",
       "      <td>ART_AND_DESIGN</td>\n",
       "      <td>4.3</td>\n",
       "      <td>967</td>\n",
       "      <td>2.8M</td>\n",
       "      <td>100,000+</td>\n",
       "      <td>Free</td>\n",
       "      <td>0</td>\n",
       "      <td>Everyone</td>\n",
       "      <td>Art &amp; Design;Creativity</td>\n",
       "      <td>June 20, 2018</td>\n",
       "      <td>1.1</td>\n",
       "      <td>4.4 and up</td>\n",
       "      <td>967.0</td>\n",
       "      <td>False</td>\n",
       "    </tr>\n",
       "    <tr>\n",
       "      <th>...</th>\n",
       "      <td>...</td>\n",
       "      <td>...</td>\n",
       "      <td>...</td>\n",
       "      <td>...</td>\n",
       "      <td>...</td>\n",
       "      <td>...</td>\n",
       "      <td>...</td>\n",
       "      <td>...</td>\n",
       "      <td>...</td>\n",
       "      <td>...</td>\n",
       "      <td>...</td>\n",
       "      <td>...</td>\n",
       "      <td>...</td>\n",
       "      <td>...</td>\n",
       "      <td>...</td>\n",
       "    </tr>\n",
       "    <tr>\n",
       "      <th>10836</th>\n",
       "      <td>Sya9a Maroc - FR</td>\n",
       "      <td>FAMILY</td>\n",
       "      <td>4.5</td>\n",
       "      <td>38</td>\n",
       "      <td>53M</td>\n",
       "      <td>5,000+</td>\n",
       "      <td>Free</td>\n",
       "      <td>0</td>\n",
       "      <td>Everyone</td>\n",
       "      <td>Education</td>\n",
       "      <td>July 25, 2017</td>\n",
       "      <td>1.48</td>\n",
       "      <td>4.1 and up</td>\n",
       "      <td>38.0</td>\n",
       "      <td>False</td>\n",
       "    </tr>\n",
       "    <tr>\n",
       "      <th>10837</th>\n",
       "      <td>Fr. Mike Schmitz Audio Teachings</td>\n",
       "      <td>FAMILY</td>\n",
       "      <td>5.0</td>\n",
       "      <td>4</td>\n",
       "      <td>3.6M</td>\n",
       "      <td>100+</td>\n",
       "      <td>Free</td>\n",
       "      <td>0</td>\n",
       "      <td>Everyone</td>\n",
       "      <td>Education</td>\n",
       "      <td>July 6, 2018</td>\n",
       "      <td>1.0</td>\n",
       "      <td>4.1 and up</td>\n",
       "      <td>4.0</td>\n",
       "      <td>False</td>\n",
       "    </tr>\n",
       "    <tr>\n",
       "      <th>10838</th>\n",
       "      <td>Parkinson Exercices FR</td>\n",
       "      <td>MEDICAL</td>\n",
       "      <td>NaN</td>\n",
       "      <td>3</td>\n",
       "      <td>9.5M</td>\n",
       "      <td>1,000+</td>\n",
       "      <td>Free</td>\n",
       "      <td>0</td>\n",
       "      <td>Everyone</td>\n",
       "      <td>Medical</td>\n",
       "      <td>January 20, 2017</td>\n",
       "      <td>1.0</td>\n",
       "      <td>2.2 and up</td>\n",
       "      <td>3.0</td>\n",
       "      <td>False</td>\n",
       "    </tr>\n",
       "    <tr>\n",
       "      <th>10839</th>\n",
       "      <td>The SCP Foundation DB fr nn5n</td>\n",
       "      <td>BOOKS_AND_REFERENCE</td>\n",
       "      <td>4.5</td>\n",
       "      <td>114</td>\n",
       "      <td>Varies with device</td>\n",
       "      <td>1,000+</td>\n",
       "      <td>Free</td>\n",
       "      <td>0</td>\n",
       "      <td>Mature 17+</td>\n",
       "      <td>Books &amp; Reference</td>\n",
       "      <td>January 19, 2015</td>\n",
       "      <td>Varies with device</td>\n",
       "      <td>Varies with device</td>\n",
       "      <td>114.0</td>\n",
       "      <td>False</td>\n",
       "    </tr>\n",
       "    <tr>\n",
       "      <th>10840</th>\n",
       "      <td>iHoroscope - 2018 Daily Horoscope &amp; Astrology</td>\n",
       "      <td>LIFESTYLE</td>\n",
       "      <td>4.5</td>\n",
       "      <td>398307</td>\n",
       "      <td>19M</td>\n",
       "      <td>10,000,000+</td>\n",
       "      <td>Free</td>\n",
       "      <td>0</td>\n",
       "      <td>Everyone</td>\n",
       "      <td>Lifestyle</td>\n",
       "      <td>July 25, 2018</td>\n",
       "      <td>Varies with device</td>\n",
       "      <td>Varies with device</td>\n",
       "      <td>398307.0</td>\n",
       "      <td>False</td>\n",
       "    </tr>\n",
       "  </tbody>\n",
       "</table>\n",
       "<p>10841 rows × 15 columns</p>\n",
       "</div>"
      ],
      "text/plain": [
       "                                                     App             Category  \\\n",
       "0         Photo Editor & Candy Camera & Grid & ScrapBook       ART_AND_DESIGN   \n",
       "1                                    Coloring book moana       ART_AND_DESIGN   \n",
       "2      U Launcher Lite – FREE Live Cool Themes, Hide ...       ART_AND_DESIGN   \n",
       "3                                  Sketch - Draw & Paint       ART_AND_DESIGN   \n",
       "4                  Pixel Draw - Number Art Coloring Book       ART_AND_DESIGN   \n",
       "...                                                  ...                  ...   \n",
       "10836                                   Sya9a Maroc - FR               FAMILY   \n",
       "10837                   Fr. Mike Schmitz Audio Teachings               FAMILY   \n",
       "10838                             Parkinson Exercices FR              MEDICAL   \n",
       "10839                      The SCP Foundation DB fr nn5n  BOOKS_AND_REFERENCE   \n",
       "10840      iHoroscope - 2018 Daily Horoscope & Astrology            LIFESTYLE   \n",
       "\n",
       "       Rating Reviews                Size     Installs  Type Price  \\\n",
       "0         4.1     159                 19M      10,000+  Free     0   \n",
       "1         3.9     967                 14M     500,000+  Free     0   \n",
       "2         4.7   87510                8.7M   5,000,000+  Free     0   \n",
       "3         4.5  215644                 25M  50,000,000+  Free     0   \n",
       "4         4.3     967                2.8M     100,000+  Free     0   \n",
       "...       ...     ...                 ...          ...   ...   ...   \n",
       "10836     4.5      38                 53M       5,000+  Free     0   \n",
       "10837     5.0       4                3.6M         100+  Free     0   \n",
       "10838     NaN       3                9.5M       1,000+  Free     0   \n",
       "10839     4.5     114  Varies with device       1,000+  Free     0   \n",
       "10840     4.5  398307                 19M  10,000,000+  Free     0   \n",
       "\n",
       "      Content Rating                     Genres      Last Updated  \\\n",
       "0           Everyone               Art & Design   January 7, 2018   \n",
       "1           Everyone  Art & Design;Pretend Play  January 15, 2018   \n",
       "2           Everyone               Art & Design    August 1, 2018   \n",
       "3               Teen               Art & Design      June 8, 2018   \n",
       "4           Everyone    Art & Design;Creativity     June 20, 2018   \n",
       "...              ...                        ...               ...   \n",
       "10836       Everyone                  Education     July 25, 2017   \n",
       "10837       Everyone                  Education      July 6, 2018   \n",
       "10838       Everyone                    Medical  January 20, 2017   \n",
       "10839     Mature 17+          Books & Reference  January 19, 2015   \n",
       "10840       Everyone                  Lifestyle     July 25, 2018   \n",
       "\n",
       "              Current Ver         Android Ver  Reviews_numeric  Reviews_isnull  \n",
       "0                   1.0.0        4.0.3 and up            159.0           False  \n",
       "1                   2.0.0        4.0.3 and up            967.0           False  \n",
       "2                   1.2.4        4.0.3 and up          87510.0           False  \n",
       "3      Varies with device          4.2 and up         215644.0           False  \n",
       "4                     1.1          4.4 and up            967.0           False  \n",
       "...                   ...                 ...              ...             ...  \n",
       "10836                1.48          4.1 and up             38.0           False  \n",
       "10837                 1.0          4.1 and up              4.0           False  \n",
       "10838                 1.0          2.2 and up              3.0           False  \n",
       "10839  Varies with device  Varies with device            114.0           False  \n",
       "10840  Varies with device  Varies with device         398307.0           False  \n",
       "\n",
       "[10841 rows x 15 columns]"
      ]
     },
     "execution_count": 100,
     "metadata": {},
     "output_type": "execute_result"
    }
   ],
   "source": [
    "google_play"
   ]
  },
  {
   "cell_type": "markdown",
   "metadata": {
    "id": "jHDPCdHVfhb-"
   },
   "source": [
    "Finally, subset the `google_play` with `Reviews_isnull`. This should give you all the rows that contain non-numeric characters.\n",
    "\n",
    "Your output should look like:\n",
    "\n",
    "![Reviews_bool.png](reviews-bool.png)"
   ]
  },
  {
   "cell_type": "code",
   "execution_count": 101,
   "metadata": {
    "id": "O3MrHRVXfhb_"
   },
   "outputs": [
    {
     "data": {
      "text/html": [
       "<div>\n",
       "<style scoped>\n",
       "    .dataframe tbody tr th:only-of-type {\n",
       "        vertical-align: middle;\n",
       "    }\n",
       "\n",
       "    .dataframe tbody tr th {\n",
       "        vertical-align: top;\n",
       "    }\n",
       "\n",
       "    .dataframe thead th {\n",
       "        text-align: right;\n",
       "    }\n",
       "</style>\n",
       "<table border=\"1\" class=\"dataframe\">\n",
       "  <thead>\n",
       "    <tr style=\"text-align: right;\">\n",
       "      <th></th>\n",
       "      <th>App</th>\n",
       "      <th>Category</th>\n",
       "      <th>Rating</th>\n",
       "      <th>Reviews</th>\n",
       "      <th>Size</th>\n",
       "      <th>Installs</th>\n",
       "      <th>Type</th>\n",
       "      <th>Price</th>\n",
       "      <th>Content Rating</th>\n",
       "      <th>Genres</th>\n",
       "      <th>Last Updated</th>\n",
       "      <th>Current Ver</th>\n",
       "      <th>Android Ver</th>\n",
       "      <th>Reviews_numeric</th>\n",
       "    </tr>\n",
       "  </thead>\n",
       "  <tbody>\n",
       "    <tr>\n",
       "      <th>10472</th>\n",
       "      <td>Life Made WI-Fi Touchscreen Photo Frame</td>\n",
       "      <td>1.9</td>\n",
       "      <td>19.0</td>\n",
       "      <td>3.0M</td>\n",
       "      <td>1,000+</td>\n",
       "      <td>Free</td>\n",
       "      <td>0</td>\n",
       "      <td>Everyone</td>\n",
       "      <td>NaN</td>\n",
       "      <td>February 11, 2018</td>\n",
       "      <td>1.0.19</td>\n",
       "      <td>4.0 and up</td>\n",
       "      <td>NaN</td>\n",
       "      <td>NaN</td>\n",
       "    </tr>\n",
       "  </tbody>\n",
       "</table>\n",
       "</div>"
      ],
      "text/plain": [
       "                                           App Category  Rating Reviews  \\\n",
       "10472  Life Made WI-Fi Touchscreen Photo Frame      1.9    19.0    3.0M   \n",
       "\n",
       "         Size Installs Type     Price Content Rating             Genres  \\\n",
       "10472  1,000+     Free    0  Everyone            NaN  February 11, 2018   \n",
       "\n",
       "      Last Updated Current Ver Android Ver  Reviews_numeric  \n",
       "10472       1.0.19  4.0 and up         NaN              NaN  "
      ]
     },
     "execution_count": 101,
     "metadata": {},
     "output_type": "execute_result"
    }
   ],
   "source": [
    "# Your code here:\n",
    "#google_play['Reviews_numeric']\n",
    "Reviews_isnull"
   ]
  },
  {
   "cell_type": "markdown",
   "metadata": {
    "id": "gDkJXhN9fhcA"
   },
   "source": [
    "#### We see that Google Play is using a shorthand for millions. \n",
    "\n",
    "Let's write a function to transform this data.\n",
    "\n",
    "Steps:\n",
    "\n",
    "1. Create a function that returns the correct numeric values of *Reviews*.\n",
    "1. Define a test string with `M` in the last character.\n",
    "1. Test your function with the test string. Make sure your function works correctly. If not, modify your functions and test again."
   ]
  },
  {
   "cell_type": "code",
   "execution_count": 63,
   "metadata": {},
   "outputs": [
    {
     "data": {
      "text/plain": [
       "Reviews    object\n",
       "dtype: object"
      ]
     },
     "execution_count": 63,
     "metadata": {},
     "output_type": "execute_result"
    }
   ],
   "source": [
    "google_play[['Reviews']].dtypes"
   ]
  },
  {
   "cell_type": "code",
   "execution_count": 88,
   "metadata": {},
   "outputs": [
    {
     "data": {
      "text/plain": [
       "['159',\n",
       " '967',\n",
       " '87510',\n",
       " '215644',\n",
       " '967',\n",
       " '167',\n",
       " '178',\n",
       " '36815',\n",
       " '13791',\n",
       " '121',\n",
       " '13880',\n",
       " '8788',\n",
       " '44829',\n",
       " '4326',\n",
       " '1518',\n",
       " '55',\n",
       " '3632',\n",
       " '27',\n",
       " '194216',\n",
       " '224399',\n",
       " '450',\n",
       " '654',\n",
       " '7699',\n",
       " '61',\n",
       " '118',\n",
       " '192',\n",
       " '20260',\n",
       " '203',\n",
       " '136',\n",
       " '223',\n",
       " '1120',\n",
       " '227',\n",
       " '5035',\n",
       " '1015',\n",
       " '353',\n",
       " '564',\n",
       " '8145',\n",
       " '36639',\n",
       " '158',\n",
       " '591',\n",
       " '117',\n",
       " '176',\n",
       " '295221',\n",
       " '2206',\n",
       " '26',\n",
       " '174531',\n",
       " '1070',\n",
       " '85',\n",
       " '845',\n",
       " '367',\n",
       " '1598',\n",
       " '284',\n",
       " '17057',\n",
       " '129',\n",
       " '542',\n",
       " '10479',\n",
       " '805',\n",
       " '129',\n",
       " '1403',\n",
       " '3971',\n",
       " '534',\n",
       " '7774',\n",
       " '38846',\n",
       " '2431',\n",
       " '6090',\n",
       " '295',\n",
       " '190',\n",
       " '40211',\n",
       " '356',\n",
       " '52530',\n",
       " '116986',\n",
       " '1379',\n",
       " '271920',\n",
       " '736',\n",
       " '7021',\n",
       " '197',\n",
       " '737',\n",
       " '3574',\n",
       " '994',\n",
       " '197136',\n",
       " '142',\n",
       " '15168',\n",
       " '2155',\n",
       " '138',\n",
       " '5414',\n",
       " '21777',\n",
       " '348',\n",
       " '250',\n",
       " '13372',\n",
       " '7880',\n",
       " '3617',\n",
       " '4806',\n",
       " '65786',\n",
       " '31433',\n",
       " '5097',\n",
       " '1754',\n",
       " '2680',\n",
       " '1288',\n",
       " '18900',\n",
       " '49790',\n",
       " '1150',\n",
       " '1739',\n",
       " '32090',\n",
       " '2225',\n",
       " '4369',\n",
       " '8572',\n",
       " '964',\n",
       " '42050',\n",
       " '104',\n",
       " '17934',\n",
       " '601',\n",
       " '36',\n",
       " '187',\n",
       " '182',\n",
       " '30',\n",
       " '134',\n",
       " '74',\n",
       " '113715',\n",
       " '3595',\n",
       " '9315',\n",
       " '75',\n",
       " '38',\n",
       " '26834',\n",
       " '119',\n",
       " '2277',\n",
       " '2280',\n",
       " '654',\n",
       " '184',\n",
       " '9',\n",
       " '77',\n",
       " '35',\n",
       " '364',\n",
       " '18',\n",
       " '473',\n",
       " '30',\n",
       " '66',\n",
       " '3871',\n",
       " '257',\n",
       " '62',\n",
       " '2914724',\n",
       " '1857',\n",
       " '4478',\n",
       " '577550',\n",
       " '814080',\n",
       " '246315',\n",
       " '454060',\n",
       " '155446',\n",
       " '418',\n",
       " '22486',\n",
       " '203130',\n",
       " '1435',\n",
       " '116507',\n",
       " '1433233',\n",
       " '90468',\n",
       " '860',\n",
       " '363934',\n",
       " '967',\n",
       " '87873',\n",
       " '17506',\n",
       " '1862',\n",
       " '2084',\n",
       " '47303',\n",
       " '19080',\n",
       " '161',\n",
       " '85842',\n",
       " '7831',\n",
       " '91615',\n",
       " '4620',\n",
       " '21336',\n",
       " '26875',\n",
       " '1778',\n",
       " '2709',\n",
       " '64513',\n",
       " '8342',\n",
       " '527',\n",
       " '1322',\n",
       " '1680',\n",
       " '2739',\n",
       " '1065',\n",
       " '233757',\n",
       " '2',\n",
       " '8788',\n",
       " '51269',\n",
       " '30105',\n",
       " '156',\n",
       " '114',\n",
       " '341157',\n",
       " '16129',\n",
       " '674730',\n",
       " '1254730',\n",
       " '85185',\n",
       " '32584',\n",
       " '217730',\n",
       " '70991',\n",
       " '1002861',\n",
       " '16589',\n",
       " '148945',\n",
       " '4458',\n",
       " '62272',\n",
       " '8941',\n",
       " '46353',\n",
       " '1279184',\n",
       " '88073',\n",
       " '67000',\n",
       " '159872',\n",
       " '30847',\n",
       " '188841',\n",
       " '11622',\n",
       " '95912',\n",
       " '4034',\n",
       " '45964',\n",
       " '14955',\n",
       " '6903',\n",
       " '31614',\n",
       " '23055',\n",
       " '19023',\n",
       " '207372',\n",
       " '1225',\n",
       " '380837',\n",
       " '10600',\n",
       " '74359',\n",
       " '822',\n",
       " '80805',\n",
       " '2287',\n",
       " '4162',\n",
       " '14760',\n",
       " '23243',\n",
       " '9',\n",
       " '8978',\n",
       " '80805',\n",
       " '42492',\n",
       " '286897',\n",
       " '103755',\n",
       " '46505',\n",
       " '11442',\n",
       " '10295',\n",
       " '159872',\n",
       " '296',\n",
       " '29313',\n",
       " '70991',\n",
       " '51507',\n",
       " '1802',\n",
       " '1383',\n",
       " '23175',\n",
       " '5868',\n",
       " '2111',\n",
       " '5448',\n",
       " '4159',\n",
       " '20815',\n",
       " '78662',\n",
       " '7149',\n",
       " '3079',\n",
       " '5800',\n",
       " '6989',\n",
       " '16422',\n",
       " '108741',\n",
       " '31614',\n",
       " '624',\n",
       " '1661',\n",
       " '97702',\n",
       " '308',\n",
       " '6989',\n",
       " '5211',\n",
       " '1058',\n",
       " '78172',\n",
       " '159872',\n",
       " '296',\n",
       " '29313',\n",
       " '70991',\n",
       " '51507',\n",
       " '1802',\n",
       " '1383',\n",
       " '23175',\n",
       " '5868',\n",
       " '2111',\n",
       " '5448',\n",
       " '4159',\n",
       " '20815',\n",
       " '78662',\n",
       " '7149',\n",
       " '3079',\n",
       " '5800',\n",
       " '6989',\n",
       " '16422',\n",
       " '8978',\n",
       " '80804',\n",
       " '42492',\n",
       " '286897',\n",
       " '103755',\n",
       " '46505',\n",
       " '11442',\n",
       " '10295',\n",
       " '217730',\n",
       " '1002859',\n",
       " '51510',\n",
       " '413',\n",
       " '23175',\n",
       " '1013635',\n",
       " '24005',\n",
       " '57106',\n",
       " '2249',\n",
       " '516',\n",
       " '834',\n",
       " '1010',\n",
       " '238970',\n",
       " '302',\n",
       " '438',\n",
       " '73',\n",
       " '39',\n",
       " '144',\n",
       " '2181',\n",
       " '93965',\n",
       " '1446',\n",
       " '12088',\n",
       " '314',\n",
       " '25671',\n",
       " '15194',\n",
       " '22551',\n",
       " '29839',\n",
       " '279',\n",
       " '564387',\n",
       " '1330',\n",
       " '1677',\n",
       " '757',\n",
       " '115',\n",
       " '125',\n",
       " '9952',\n",
       " '18814',\n",
       " '21',\n",
       " '15',\n",
       " '51981',\n",
       " '3596',\n",
       " '1006',\n",
       " '5968',\n",
       " '4895',\n",
       " '56642847',\n",
       " '69119316',\n",
       " '125257',\n",
       " '9642995',\n",
       " '1429035',\n",
       " '4604324',\n",
       " '3419249',\n",
       " '11334799',\n",
       " '158679',\n",
       " '3075028',\n",
       " '4187998',\n",
       " '659395',\n",
       " '4785892',\n",
       " '66602',\n",
       " '30209',\n",
       " '36901',\n",
       " '5149854',\n",
       " '192948',\n",
       " '99559',\n",
       " '437674',\n",
       " '13698',\n",
       " '2473509',\n",
       " '20769',\n",
       " '36880',\n",
       " '171031',\n",
       " '63543',\n",
       " '45487',\n",
       " '615381',\n",
       " '2451083',\n",
       " '33053',\n",
       " '5387333',\n",
       " '3648120',\n",
       " '136662',\n",
       " '42370',\n",
       " '781810',\n",
       " '3128250',\n",
       " '2083237',\n",
       " '541389',\n",
       " '46702',\n",
       " '2939',\n",
       " '13761',\n",
       " '258556',\n",
       " '40751',\n",
       " '17712922',\n",
       " '25021',\n",
       " '27187',\n",
       " '69119316',\n",
       " '56646578',\n",
       " '4785988',\n",
       " '122498',\n",
       " '11334973',\n",
       " '3419433',\n",
       " '132014',\n",
       " '83239',\n",
       " '594728',\n",
       " '5387446',\n",
       " '10484169',\n",
       " '3128509',\n",
       " '2451093',\n",
       " '171031',\n",
       " '2876500',\n",
       " '781810',\n",
       " '28238',\n",
       " '335646',\n",
       " '350154',\n",
       " '349384',\n",
       " '346982',\n",
       " '244863',\n",
       " '10790289',\n",
       " '330761',\n",
       " '37320',\n",
       " '12842860',\n",
       " '2546527',\n",
       " '36893',\n",
       " '15880',\n",
       " '346980',\n",
       " '9643041',\n",
       " '3075118',\n",
       " '2264916',\n",
       " '541389',\n",
       " '2473693',\n",
       " '42925',\n",
       " '5150471',\n",
       " '2511130',\n",
       " '3648480',\n",
       " '17714850',\n",
       " '13100',\n",
       " '27156',\n",
       " '55098',\n",
       " '1133501',\n",
       " '12578',\n",
       " '10965',\n",
       " '18247',\n",
       " '190613',\n",
       " '125232',\n",
       " '83239',\n",
       " '11334973',\n",
       " '72065',\n",
       " '27540',\n",
       " '104990',\n",
       " '177703',\n",
       " '17529',\n",
       " '177263',\n",
       " '237468',\n",
       " '32254',\n",
       " '483565',\n",
       " '552441',\n",
       " '60308',\n",
       " '457283',\n",
       " '93825',\n",
       " '32283',\n",
       " '15287',\n",
       " '205739',\n",
       " '14873',\n",
       " '7820209',\n",
       " '9498',\n",
       " '4604483',\n",
       " '4188142',\n",
       " '88427',\n",
       " '305218',\n",
       " '183374',\n",
       " '20901',\n",
       " '122595',\n",
       " '124346',\n",
       " '837842',\n",
       " '255',\n",
       " '41420',\n",
       " '44706',\n",
       " '23707',\n",
       " '3419513',\n",
       " '4785988',\n",
       " '594728',\n",
       " '11335255',\n",
       " '10484169',\n",
       " '5387446',\n",
       " '29208',\n",
       " '191032',\n",
       " '350154',\n",
       " '244863',\n",
       " '10790289',\n",
       " '2546527',\n",
       " '1545',\n",
       " '57',\n",
       " '0',\n",
       " '0',\n",
       " '4',\n",
       " '2',\n",
       " '516801',\n",
       " '285726',\n",
       " '76646',\n",
       " '2556',\n",
       " '7779',\n",
       " '61637',\n",
       " '12632',\n",
       " '313724',\n",
       " '48845',\n",
       " '305708',\n",
       " '31320',\n",
       " '172460',\n",
       " '4195',\n",
       " '11633',\n",
       " '10212',\n",
       " '37053',\n",
       " '667',\n",
       " '13202',\n",
       " '28671',\n",
       " '1157',\n",
       " '212626',\n",
       " '222888',\n",
       " '2067',\n",
       " '1643',\n",
       " '105',\n",
       " '3414',\n",
       " '42194',\n",
       " '11806',\n",
       " '1999',\n",
       " '22544',\n",
       " '97684',\n",
       " '2519',\n",
       " '1146',\n",
       " '13046',\n",
       " '17268',\n",
       " '8722',\n",
       " '953',\n",
       " '2593',\n",
       " '5377',\n",
       " '852',\n",
       " '212',\n",
       " '1972',\n",
       " '35206',\n",
       " '5164',\n",
       " '1939',\n",
       " '277',\n",
       " '80',\n",
       " '825',\n",
       " '40035',\n",
       " '1093',\n",
       " '135418',\n",
       " '1601',\n",
       " '2212',\n",
       " '57081',\n",
       " '241',\n",
       " '63986',\n",
       " '7888',\n",
       " '535',\n",
       " '5084',\n",
       " '2430',\n",
       " '285726',\n",
       " '48845',\n",
       " '2556',\n",
       " '7779',\n",
       " '837',\n",
       " '12632',\n",
       " '61637',\n",
       " '5377',\n",
       " '11633',\n",
       " '313724',\n",
       " '738',\n",
       " '305708',\n",
       " '953',\n",
       " '4631',\n",
       " '222888',\n",
       " '17268',\n",
       " '5164',\n",
       " '4953',\n",
       " '4195',\n",
       " '28671',\n",
       " '212626',\n",
       " '1439',\n",
       " '1645',\n",
       " '13204',\n",
       " '853',\n",
       " '337',\n",
       " '13049',\n",
       " '51698',\n",
       " '923',\n",
       " '1546',\n",
       " '149',\n",
       " '198',\n",
       " '135420',\n",
       " '22545',\n",
       " '8723',\n",
       " '23170',\n",
       " '13890',\n",
       " '57083',\n",
       " '537',\n",
       " '13440',\n",
       " '143',\n",
       " '1059',\n",
       " '894',\n",
       " '6191',\n",
       " '2212',\n",
       " '15081',\n",
       " '80',\n",
       " '218',\n",
       " '35205',\n",
       " '243950',\n",
       " '236',\n",
       " '5152',\n",
       " '1576',\n",
       " '6701',\n",
       " '40039',\n",
       " '742',\n",
       " '187',\n",
       " '2506',\n",
       " '182986',\n",
       " '8661',\n",
       " '8',\n",
       " '59',\n",
       " '35',\n",
       " '28',\n",
       " '125',\n",
       " '185',\n",
       " '6',\n",
       " '110',\n",
       " '3',\n",
       " '3',\n",
       " '5',\n",
       " '3',\n",
       " '84',\n",
       " '2',\n",
       " '20',\n",
       " '2',\n",
       " '776',\n",
       " '2',\n",
       " '1',\n",
       " '0',\n",
       " '14',\n",
       " '0',\n",
       " '1',\n",
       " '1',\n",
       " '3',\n",
       " '0',\n",
       " '0',\n",
       " '24',\n",
       " '0',\n",
       " '23',\n",
       " '0',\n",
       " '5',\n",
       " '18',\n",
       " '0',\n",
       " '6',\n",
       " '1',\n",
       " '2',\n",
       " '0',\n",
       " '5',\n",
       " '0',\n",
       " '0',\n",
       " '0',\n",
       " '0',\n",
       " '1',\n",
       " '11',\n",
       " '4',\n",
       " '14',\n",
       " '0',\n",
       " '1',\n",
       " '104',\n",
       " '0',\n",
       " '14',\n",
       " '3',\n",
       " '101',\n",
       " '120',\n",
       " '24',\n",
       " '0',\n",
       " '0',\n",
       " '0',\n",
       " '6',\n",
       " '4954',\n",
       " '954',\n",
       " '2560',\n",
       " '59',\n",
       " '3',\n",
       " '10212',\n",
       " '105',\n",
       " '21',\n",
       " '42197',\n",
       " '28',\n",
       " '6',\n",
       " '5168',\n",
       " '12633',\n",
       " '41605',\n",
       " '8',\n",
       " '218',\n",
       " '3',\n",
       " '2433',\n",
       " '185',\n",
       " '80',\n",
       " '35',\n",
       " '3',\n",
       " '5',\n",
       " '125',\n",
       " '791',\n",
       " '110',\n",
       " '5323',\n",
       " '478',\n",
       " '825',\n",
       " '69',\n",
       " '158',\n",
       " '24',\n",
       " '53',\n",
       " '182986',\n",
       " '1157',\n",
       " '97699',\n",
       " '8',\n",
       " '6289924',\n",
       " '181893',\n",
       " '2544',\n",
       " '85375',\n",
       " '314299',\n",
       " '776',\n",
       " '9770',\n",
       " '32346',\n",
       " '4075',\n",
       " '10611',\n",
       " '9321',\n",
       " '56065',\n",
       " '14286',\n",
       " '133136',\n",
       " '2469',\n",
       " '36212',\n",
       " '390',\n",
       " '1090',\n",
       " '266948',\n",
       " '342918',\n",
       " '748',\n",
       " '172640',\n",
       " '61',\n",
       " '1619',\n",
       " '3168',\n",
       " '29855',\n",
       " '6736',\n",
       " '7005',\n",
       " '889',\n",
       " '5741',\n",
       " '27572',\n",
       " '10852',\n",
       " '9888',\n",
       " '1929',\n",
       " '1516',\n",
       " '215301',\n",
       " '423',\n",
       " '254519',\n",
       " '1107903',\n",
       " '85375',\n",
       " '181893',\n",
       " '211856',\n",
       " '99020',\n",
       " '90481',\n",
       " '32381',\n",
       " '248912',\n",
       " '248555',\n",
       " '215301',\n",
       " '272145',\n",
       " '56897',\n",
       " '8599',\n",
       " '41185',\n",
       " '29980',\n",
       " '304',\n",
       " '358',\n",
       " '11904',\n",
       " '22251',\n",
       " '22384',\n",
       " '99020',\n",
       " '73404',\n",
       " '12733',\n",
       " '25183',\n",
       " '52743',\n",
       " '61749',\n",
       " '55704',\n",
       " '19277',\n",
       " '13612',\n",
       " '37862',\n",
       " '18372',\n",
       " '656',\n",
       " '240',\n",
       " '275',\n",
       " '13791',\n",
       " '3692',\n",
       " '2363',\n",
       " '1769',\n",
       " '430',\n",
       " '756',\n",
       " '3963',\n",
       " '316',\n",
       " '642',\n",
       " '1058',\n",
       " '2277',\n",
       " '85375',\n",
       " '181893',\n",
       " '6290507',\n",
       " '211856',\n",
       " '90481',\n",
       " '99020',\n",
       " '22384',\n",
       " '32380',\n",
       " '172505',\n",
       " '69493',\n",
       " '8599',\n",
       " '1107884',\n",
       " '41185',\n",
       " '7973',\n",
       " '266935',\n",
       " '5695',\n",
       " '142632',\n",
       " '6290507',\n",
       " '55256',\n",
       " '172508',\n",
       " '54798',\n",
       " '4815',\n",
       " '75112',\n",
       " '33646',\n",
       " '1107903',\n",
       " '314300',\n",
       " '206527',\n",
       " '9348',\n",
       " '3816',\n",
       " '47847',\n",
       " '16195',\n",
       " '206',\n",
       " '28392',\n",
       " '3241',\n",
       " '835',\n",
       " '2525',\n",
       " '828',\n",
       " '211856',\n",
       " '200058',\n",
       " '1239',\n",
       " '702',\n",
       " '108613',\n",
       " '69498',\n",
       " '148550',\n",
       " '6290507',\n",
       " '3847',\n",
       " '55256',\n",
       " '84309',\n",
       " '4815',\n",
       " '172508',\n",
       " '1107948',\n",
       " '266948',\n",
       " '14206',\n",
       " '206532',\n",
       " '9348',\n",
       " '14700',\n",
       " '42828',\n",
       " '40209',\n",
       " '37862',\n",
       " '1405',\n",
       " '69498',\n",
       " '148549',\n",
       " '84311',\n",
       " '211856',\n",
       " '206532',\n",
       " '172508',\n",
       " '256079',\n",
       " '2078',\n",
       " '16103',\n",
       " '11',\n",
       " '21',\n",
       " '31085',\n",
       " '3528',\n",
       " '5456208',\n",
       " '11656',\n",
       " '28948',\n",
       " '296771',\n",
       " '470089',\n",
       " '10939',\n",
       " '98509',\n",
       " '5241',\n",
       " '22508',\n",
       " '10291',\n",
       " '7165362',\n",
       " '4885646',\n",
       " '141980',\n",
       " '6979',\n",
       " '46618',\n",
       " '103078',\n",
       " '17682',\n",
       " '37000',\n",
       " '175528',\n",
       " '1828284',\n",
       " '34923',\n",
       " '684116',\n",
       " '46916',\n",
       " '407698',\n",
       " '702975',\n",
       " '32458',\n",
       " '235496',\n",
       " '11661',\n",
       " '653008',\n",
       " '23063',\n",
       " '87384',\n",
       " '411683',\n",
       " '8918',\n",
       " '501498',\n",
       " '2133296',\n",
       " '29690',\n",
       " '130549',\n",
       " '613059',\n",
       " '1633682',\n",
       " '42050',\n",
       " '2646',\n",
       " '21867',\n",
       " '32732',\n",
       " '653008',\n",
       " '243747',\n",
       " '2639',\n",
       " '1511',\n",
       " '44550',\n",
       " '501497',\n",
       " '5456208',\n",
       " '7813',\n",
       " '1033',\n",
       " '2442',\n",
       " '15254',\n",
       " '155234',\n",
       " '310066',\n",
       " '12216',\n",
       " '388089',\n",
       " '92058',\n",
       " '88185',\n",
       " '493',\n",
       " '33387',\n",
       " '123279',\n",
       " '27424',\n",
       " '60841',\n",
       " '29706',\n",
       " '288150',\n",
       " '14807',\n",
       " '319692',\n",
       " '61201',\n",
       " '22998',\n",
       " '12398',\n",
       " '35928',\n",
       " '64448',\n",
       " '22378',\n",
       " '501498',\n",
       " '5456599',\n",
       " '296829',\n",
       " '310095',\n",
       " '88185',\n",
       " '388089',\n",
       " '92058',\n",
       " '123279',\n",
       " '319691',\n",
       " '60841',\n",
       " '288150',\n",
       " '16372',\n",
       " '58028',\n",
       " '33387',\n",
       " '61201',\n",
       " '736864',\n",
       " '29706',\n",
       " '27424',\n",
       " '1968',\n",
       " '35279',\n",
       " '35931',\n",
       " '14807',\n",
       " '17247',\n",
       " '87723',\n",
       " '18523',\n",
       " '182103',\n",
       " '197774',\n",
       " '8674',\n",
       " '5456708',\n",
       " '296771',\n",
       " '58082',\n",
       " '388089',\n",
       " '310066',\n",
       " '123279',\n",
       " '88185',\n",
       " '319691',\n",
       " '7813',\n",
       " '60841',\n",
       " '653008',\n",
       " '27424',\n",
       " '33387',\n",
       " '407719',\n",
       " '288150',\n",
       " '115033',\n",
       " '22997',\n",
       " '61201',\n",
       " '801',\n",
       " '29706',\n",
       " '27424',\n",
       " '12398',\n",
       " '35279',\n",
       " '35931',\n",
       " '22378',\n",
       " '14807',\n",
       " '197774',\n",
       " '8674',\n",
       " '8968',\n",
       " '303',\n",
       " '407719',\n",
       " '732',\n",
       " '1856',\n",
       " '50725',\n",
       " '123279',\n",
       " '243747',\n",
       " '1575',\n",
       " '6238',\n",
       " '9941',\n",
       " '23666',\n",
       " '67554',\n",
       " '38769',\n",
       " ...]"
      ]
     },
     "execution_count": 88,
     "metadata": {},
     "output_type": "execute_result"
    }
   ],
   "source": [
    "reviews_list"
   ]
  },
  {
   "cell_type": "code",
   "execution_count": 112,
   "metadata": {
    "id": "3DLRLUkYfhcA"
   },
   "outputs": [
    {
     "data": {
      "text/plain": [
       "'error'"
      ]
     },
     "execution_count": 112,
     "metadata": {},
     "output_type": "execute_result"
    }
   ],
   "source": [
    "# Your code here\n",
    "reviews_list = google_play['Reviews'].tolist()\n",
    "def convert_string_to_numeric(s):\n",
    "    \"\"\"\n",
    "    Convert a string value to numeric. \n",
    "    \n",
    "    If the last character of the string is `M`, \n",
    "    obtain the numeric part of the string,\n",
    "    multiply it with 1,000,000, \n",
    "    then return the result. \n",
    "    Otherwise, convert the string to numeric value and return the result.\n",
    "    \n",
    "    Args:\n",
    "        s: The Reviews score in string format.\n",
    "\n",
    "    Returns:\n",
    "        The correct numeric value of the Reviews score.\n",
    "    \"\"\"\n",
    "    \n",
    "    if s[:-1] == 'M':\n",
    "        #get numeric\n",
    "        print(s[:-1])\n",
    "        s = float(s) * 1000000\n",
    "        \n",
    "        \n",
    "        #'^[A-Z]'\n",
    "        #a = str.s(0, str.length-1)\n",
    "        #re.findall(r'\\d+',s)\n",
    "        #a*1000000\n",
    "        print(a)\n",
    "        #a = my_string,r'\\d+'\n",
    "    else:\n",
    "        return \"error\"\n",
    "    \n",
    "\n",
    "test_string = '3.0M'\n",
    "#search\n",
    "#convert_string_to_numeric(test_string) == 4000000\n",
    "#convert_string_to_numeric(test_string)\n",
    "convert_string_to_numeric(test_string)\n",
    "#reviews_list[10472][-1]\n",
    "\n",
    "#google_play[\"Reviews\"] = google_play[\"Reviews\"].apply(convert_string_to_numeric)"
   ]
  },
  {
   "cell_type": "code",
   "execution_count": 81,
   "metadata": {},
   "outputs": [
    {
     "data": {
      "text/plain": [
       "True"
      ]
     },
     "execution_count": 81,
     "metadata": {},
     "output_type": "execute_result"
    }
   ],
   "source": [
    "#x = re.search(\"M\",reviews_list)\n",
    "type(reviews_list)\n",
    "\n",
    "# Your code here\n",
    "reviews_list\n",
    "#for i in reviews_list:\n",
    "#    if \n",
    "#    austin[event]=austin['Events'].str.contains(event)*1\n",
    "    \n",
    "result = google_play[\"Reviews\"].str.contains(pat = '[A-Z]', regex = True)\n",
    "result[10472]"
   ]
  },
  {
   "cell_type": "code",
   "execution_count": null,
   "metadata": {},
   "outputs": [],
   "source": []
  },
  {
   "cell_type": "markdown",
   "metadata": {
    "id": "V5mvhSpafhcC"
   },
   "source": [
    "The last step is to apply the function to the `Reviews` column in the following cell:"
   ]
  },
  {
   "cell_type": "code",
   "execution_count": null,
   "metadata": {
    "id": "cbmli9LAfhcC"
   },
   "outputs": [],
   "source": [
    "# Your code here:\n"
   ]
  },
  {
   "cell_type": "markdown",
   "metadata": {
    "id": "jL-H212YfhcD"
   },
   "source": [
    "Check the non-numeric `Reviews` row again. It should have been fixed now and you should see:\n",
    "\n",
    "![Reviews_bool_fixed.png](reviews-bool-fixed.png)"
   ]
  },
  {
   "cell_type": "code",
   "execution_count": null,
   "metadata": {
    "id": "nYqLVVZpfhcD"
   },
   "outputs": [],
   "source": [
    "# Your code here\n"
   ]
  },
  {
   "cell_type": "markdown",
   "metadata": {
    "id": "MK3E33YAfhcE"
   },
   "source": [
    "Also check the variable types of `google_play`. The `Reviews` column should be a `float64` type now."
   ]
  },
  {
   "cell_type": "code",
   "execution_count": null,
   "metadata": {
    "id": "Y7Tw2lX8fhcF"
   },
   "outputs": [],
   "source": [
    "# Your code here:\n"
   ]
  },
  {
   "cell_type": "markdown",
   "metadata": {
    "id": "49TTLiq7fhcF"
   },
   "source": [
    "#### The next column we will look at is `Size`. We start by looking at all unique values in `Size`:\n",
    "\n",
    "*Hint: use `unique()` ([documentation](https://pandas.pydata.org/pandas-docs/stable/generated/pandas.Series.unique.html))*."
   ]
  },
  {
   "cell_type": "code",
   "execution_count": null,
   "metadata": {
    "id": "LOSnt7fMfhcF"
   },
   "outputs": [],
   "source": [
    "# Your code here:\n"
   ]
  },
  {
   "cell_type": "markdown",
   "metadata": {
    "id": "TciEBCyXfhcG"
   },
   "source": [
    "You should have seen lots of unique values of the app sizes.\n",
    "\n",
    "#### While we can convert most of the `Size` values to numeric in the same way we converted the `Reviews` values, there is one value that is impossible to convert.\n",
    "\n",
    "What is that badass value? Enter it in the next cell and calculate the proportion of its occurence to the total number of records of `google_play`."
   ]
  },
  {
   "cell_type": "code",
   "execution_count": null,
   "metadata": {
    "id": "-BCYOWiYfhcG"
   },
   "outputs": [],
   "source": [
    "# Your code here:\n"
   ]
  },
  {
   "cell_type": "markdown",
   "metadata": {
    "id": "memkwXoPfhcH"
   },
   "source": [
    "#### While this column may be useful for other types of analysis, we opt to drop it from our dataset. \n",
    "\n",
    "There are two reasons. First, the majority of the data are ordinal but a sizeable proportion are missing because we cannot convert them to numerical values. Ordinal data are both numerical and categorical, and they usually can be ranked (e.g. 82k is smaller than 91M). In contrast, non-ordinal categorical data such as blood type and eye color cannot be ranked. The second reason is as a categorical column, it has too many unique values to produce meaningful insights. Therefore, in our case the simplest strategy would be to drop the column.\n",
    "\n",
    "Drop the column in the cell below (use `inplace=True`)"
   ]
  },
  {
   "cell_type": "code",
   "execution_count": null,
   "metadata": {
    "id": "UH5vyr6WfhcH"
   },
   "outputs": [],
   "source": [
    "# Your code here:\n"
   ]
  },
  {
   "cell_type": "markdown",
   "metadata": {
    "id": "t5SyM4bTfhcH"
   },
   "source": [
    "#### Now let's look at how many missing values are in each column. \n",
    "\n",
    "This will give us an idea of whether we should come up with a missing data strategy or give up on the column all together. In the next column, find the number of missing values in each column: \n",
    "\n",
    "*Hint: use the `isna()` and `sum()` functions.*"
   ]
  },
  {
   "cell_type": "code",
   "execution_count": null,
   "metadata": {
    "id": "u-esah2afhcI"
   },
   "outputs": [],
   "source": [
    "# Your code here:\n"
   ]
  },
  {
   "cell_type": "markdown",
   "metadata": {
    "id": "SufgsNC1fhcI"
   },
   "source": [
    "You should find the column with the most missing values is now `Rating`.\n",
    "\n",
    "#### What is the proportion of the missing values in `Rating` to the total number of records?\n",
    "\n",
    "Enter your answer in the cell below."
   ]
  },
  {
   "cell_type": "code",
   "execution_count": null,
   "metadata": {
    "id": "7xauADUjfhcJ"
   },
   "outputs": [],
   "source": [
    "# Your code here:\n"
   ]
  },
  {
   "cell_type": "markdown",
   "metadata": {
    "id": "6nbSfbWWfhcJ"
   },
   "source": [
    "A sizeable proportion of the `Rating` column is missing. A few other columns also contain several missing values.\n",
    "\n",
    "#### We opt to preserve these columns and remove the rows containing missing data.\n",
    "\n",
    "In particular, we don't want to drop the `Rating` column because:\n",
    "\n",
    "* It is one of the most important columns in our dataset. \n",
    "\n",
    "* Since the dataset is not a time series, the loss of these rows will not have a negative impact on our ability to analyze the data. It will, however, cause us to lose some meaningful observations. But the loss is limited compared to the gain we receive by preserving these columns.\n",
    "\n",
    "In the cell below, remove all rows containing at least one missing value. Use the `dropna()` function ([documentation](https://pandas.pydata.org/pandas-docs/stable/generated/pandas.DataFrame.dropna.html)). Assign the new dataframe to the variable `google_missing_removed`."
   ]
  },
  {
   "cell_type": "code",
   "execution_count": null,
   "metadata": {
    "id": "Tlk9qbEhfhcK"
   },
   "outputs": [],
   "source": [
    "# Your code here:\n"
   ]
  },
  {
   "cell_type": "markdown",
   "metadata": {
    "id": "tbCazUjNfhcK"
   },
   "source": [
    "From now on, we use the `google_missing_removed` variable instead of `google_play`.\n",
    "\n",
    "#### Next, we look at the `Last Updated` column.\n",
    "\n",
    "The `Last Updated` column seems to contain a date, though it is classified as an object type. Let's convert this column using the `pd.to_datetime` function ([documentation](https://pandas.pydata.org/pandas-docs/stable/generated/pandas.to_datetime.html))."
   ]
  },
  {
   "cell_type": "code",
   "execution_count": null,
   "metadata": {
    "id": "ZV8lxE2JfhcL"
   },
   "outputs": [],
   "source": [
    "# Your code here:\n"
   ]
  },
  {
   "cell_type": "markdown",
   "metadata": {
    "id": "8ctUrk4DfhcL"
   },
   "source": [
    "#### The last column we will transform is `Price`. \n",
    "\n",
    "We start by looking at the unique values of this column."
   ]
  },
  {
   "cell_type": "code",
   "execution_count": null,
   "metadata": {
    "id": "Y1GAvf7sfhcL"
   },
   "outputs": [],
   "source": [
    "# Your code here:\n"
   ]
  },
  {
   "cell_type": "markdown",
   "metadata": {
    "id": "UfPYpqjHfhcM"
   },
   "source": [
    "Since all prices are ordinal data without exceptions, we can tranform this column by removing the dollar sign and converting to numeric. We can create a new column called `Price Numerical` and drop the original column.\n",
    "\n",
    "We will achieve our goal in three steps. Follow the instructions of each step below.\n",
    "\n",
    "#### First we remove the dollar sign. Do this in the next cell by applying the `str.replace` function to the column to replace `$` with an empty string (`''`)."
   ]
  },
  {
   "cell_type": "code",
   "execution_count": null,
   "metadata": {
    "id": "l42htAspfhcM"
   },
   "outputs": [],
   "source": [
    "# Your code here:\n"
   ]
  },
  {
   "cell_type": "markdown",
   "metadata": {
    "id": "oDMV_zHffhcM"
   },
   "source": [
    "#### Second step, coerce the `Price Numerical` column to numeric."
   ]
  },
  {
   "cell_type": "code",
   "execution_count": null,
   "metadata": {
    "id": "IXq9POEtfhcN"
   },
   "outputs": [],
   "source": [
    "# Your code here:\n"
   ]
  },
  {
   "cell_type": "markdown",
   "metadata": {
    "id": "GjHJN5jIfhcN"
   },
   "source": [
    "**Finally, drop the original `Price` column.**"
   ]
  },
  {
   "cell_type": "code",
   "execution_count": null,
   "metadata": {
    "id": "uMHBFe_1fhcN"
   },
   "outputs": [],
   "source": [
    "# Your code here:\n"
   ]
  },
  {
   "cell_type": "markdown",
   "metadata": {
    "id": "VQdgVdxEfhcO"
   },
   "source": [
    "Now check the variable types of `google_missing_removed`. Make sure:\n",
    "\n",
    "* `Size` and `Price` columns have been removed.\n",
    "* `Rating`, `Reviews`, and `Price Numerical` have the type of `float64`.\n",
    "* `Last Updated` has the type of `datetime64`."
   ]
  },
  {
   "cell_type": "code",
   "execution_count": null,
   "metadata": {
    "id": "2Z0K5PNZfhcO"
   },
   "outputs": [],
   "source": [
    "# Your code here"
   ]
  },
  {
   "cell_type": "markdown",
   "metadata": {
    "id": "QcYL2Zh7fhcO"
   },
   "source": [
    "# Challenge 2 - Loading and Extracting Features from the Second Dataset"
   ]
  },
  {
   "cell_type": "markdown",
   "metadata": {
    "id": "prHjUxNofhcP"
   },
   "source": [
    "Load the second dataset to the variable `google_reviews`. The data is in the file `googleplaystore_user_reviews.csv`."
   ]
  },
  {
   "cell_type": "code",
   "execution_count": null,
   "metadata": {
    "id": "K6Byv70wfhcP"
   },
   "outputs": [],
   "source": [
    "# Your code here:\n",
    "\n",
    "google_review = pd.read_csv('../googleplaystore_user_reviews.csv')"
   ]
  },
  {
   "cell_type": "markdown",
   "metadata": {
    "id": "128J08eFfhcP"
   },
   "source": [
    "#### This dataset contains the top 100 reviews for each app. \n",
    "\n",
    "Let's examine this dataset using the `head` function"
   ]
  },
  {
   "cell_type": "code",
   "execution_count": null,
   "metadata": {
    "id": "Ler-taRKfhcQ"
   },
   "outputs": [],
   "source": [
    "# Your code here\n"
   ]
  },
  {
   "cell_type": "markdown",
   "metadata": {
    "id": "auNRd2TjfhcQ"
   },
   "source": [
    "#### The main piece of information we would like to extract from this dataset is the proportion of positive reviews of each app. \n",
    "\n",
    "Columns like `Sentiment_Polarity` and `Sentiment_Subjectivity` are not to our interests because we have no clue how to use them. We do not care about `Translated_Review` because natural language processing is too complex for us at present (in fact the `Sentiment`, `Sentiment_Polarity`, and `Sentiment_Subjectivity` columns are derived from `Translated_Review` the data scientists). \n",
    "\n",
    "What we care about in this challenge is `Sentiment`. To be more precise, we care about **what is the proportion of *Positive* sentiment of each app**. This will require us to aggregate the `Sentiment` data by `App` in order to calculate the proportions.\n",
    "\n",
    "Now that you are clear about what we are trying to achieve, follow the steps below that will walk you through towards our goal."
   ]
  },
  {
   "cell_type": "markdown",
   "metadata": {
    "id": "x6NQcl_vfhcR"
   },
   "source": [
    "#### Our first step will be to remove all rows with missing sentiment. \n",
    "\n",
    "In the next cell, drop all rows with missing data using the `dropna()` function and assign this new dataframe to `review_missing_removed`."
   ]
  },
  {
   "cell_type": "code",
   "execution_count": null,
   "metadata": {
    "id": "vECNpngxfhcR"
   },
   "outputs": [],
   "source": [
    "# Your code here:\n"
   ]
  },
  {
   "cell_type": "markdown",
   "metadata": {
    "id": "m1cfmFmWfhcS"
   },
   "source": [
    "#### Now, use the `value_counts()` function ([documentation](https://pandas.pydata.org/pandas-docs/stable/generated/pandas.Series.value_counts.html)) to get a sense on how many apps are in this dataset and their review counts."
   ]
  },
  {
   "cell_type": "code",
   "execution_count": null,
   "metadata": {
    "id": "ihd2E23NfhcS"
   },
   "outputs": [],
   "source": [
    "# Your code here:\n"
   ]
  },
  {
   "cell_type": "markdown",
   "metadata": {
    "id": "eNxu-scifhcT"
   },
   "source": [
    "#### Now the tough part comes. Let's plan how we will achieve our goal:\n",
    "\n",
    "1. We will count the number of reviews that contain *Positive* in the `Sentiment` column.\n",
    "\n",
    "1. We will create a new dataframe to contain the `App` name, the number of positive reviews, and the total number of reviews of each app.\n",
    "\n",
    "1. We will then loop the new dataframe to calculate the postivie review portion of each app."
   ]
  },
  {
   "cell_type": "markdown",
   "metadata": {
    "id": "o0Llo0cNfhcT"
   },
   "source": [
    "#### Step 1: Count the number of positive reviews.\n",
    "\n",
    "In the following cell, write a function that takes a column and returns the number of times *Positive* appears in the column. \n",
    "\n",
    "*Hint: One option is to use the `np.where()` function ([documentation](https://docs.scipy.org/doc/numpy-1.13.0/reference/generated/numpy.where.html)).*"
   ]
  },
  {
   "cell_type": "code",
   "execution_count": null,
   "metadata": {
    "id": "_sFFkhM1fhcT"
   },
   "outputs": [],
   "source": [
    "# Your code below\n",
    "\n",
    "def positive_function(x):\n",
    "    \"\"\"\n",
    "    Count how many times the string `Positive` appears in a column (exact string match).\n",
    "    \n",
    "    Args:\n",
    "        x: data column\n",
    "    \n",
    "    Returns:\n",
    "        The number of occurrences of `Positive` in the column data.\n",
    "    \"\"\"\n",
    "    return 0"
   ]
  },
  {
   "cell_type": "markdown",
   "metadata": {
    "id": "Aj0qu-_1fhcU"
   },
   "source": [
    "#### Step 2: Create a new dataframe to contain the `App` name, the number of positive reviews, and the total number of reviews of each app\n",
    "\n",
    "We will group `review_missing_removed` by the `App` column, then aggregate the grouped dataframe on the number of positive reviews and the total review counts of each app. The result will be assigned to a new variable `google_agg`. Here is the ([documentation on how to achieve it](https://pandas.pydata.org/pandas-docs/stable/generated/pandas.core.groupby.DataFrameGroupBy.agg.html)). Take a moment or two to read the documentation and google examples because it is pretty complex.\n",
    "\n",
    "When you obtain `google_agg`, check its values to make sure it has an `App` column as its index as well as a `Positive` column and a `Total` column. Your output should look like:\n",
    "\n",
    "![Positive Reviews Agg](positive-review-agg.png)\n",
    "\n",
    "*Hint: Use `positive_function` you created earlier as part of the param passed to the `agg()` function in order to aggregate the number of positive reviews.*\n",
    "\n",
    "#### Bonus:\n",
    "\n",
    "As of Pandas v0.23.4, you may opt to supply an array or an object to `agg()`. If you use the array param, you'll need to rename the columns so that their names are `Positive` and `Total`. Using the object param will allow you to create the aggregated columns with the desirable names without renaming them. However, you will probably encounter a warning indicating supplying an object to `agg()` will become outdated. It's up to you which way you will use. Try both ways out. Any way is fine as long as it works."
   ]
  },
  {
   "cell_type": "code",
   "execution_count": null,
   "metadata": {
    "id": "9k496CGlfhcV"
   },
   "outputs": [],
   "source": [
    "# Your code here:\n"
   ]
  },
  {
   "cell_type": "markdown",
   "metadata": {
    "id": "r_MhV5N7fhcW"
   },
   "source": [
    "Print the first 5 rows of `google_agg` to check it."
   ]
  },
  {
   "cell_type": "code",
   "execution_count": null,
   "metadata": {
    "id": "_eNSsiRVfhcW"
   },
   "outputs": [],
   "source": [
    "# Your code here\n"
   ]
  },
  {
   "cell_type": "markdown",
   "metadata": {
    "id": "aNZMlA9RfhcX"
   },
   "source": [
    "#### Add a derived column to `google_agg` that is the ratio of the `Positive` and the `Total` columns. Call this column `Positive Ratio`. \n",
    "\n",
    "Make sure to account for the case where the denominator is zero using the `np.where()` function."
   ]
  },
  {
   "cell_type": "code",
   "execution_count": null,
   "metadata": {
    "id": "ATzCD8egfhcY"
   },
   "outputs": [],
   "source": [
    "# Your code here:\n"
   ]
  },
  {
   "cell_type": "markdown",
   "metadata": {
    "id": "LTOHBfanfhcY"
   },
   "source": [
    "#### Now drop the `Positive` and `Total` columns. Do this with `inplace=True`."
   ]
  },
  {
   "cell_type": "code",
   "execution_count": null,
   "metadata": {
    "id": "d4cPgxl0fhcZ"
   },
   "outputs": [],
   "source": [
    "# Your code here:\n"
   ]
  },
  {
   "cell_type": "markdown",
   "metadata": {
    "id": "dxlD7394fhcZ"
   },
   "source": [
    "Print the first 5 rows of `google_agg`. Your output should look like:\n",
    "\n",
    "![Positive Reviews Agg](positive-review-ratio.png)"
   ]
  },
  {
   "cell_type": "code",
   "execution_count": null,
   "metadata": {
    "id": "xMpEUPm9fhca"
   },
   "outputs": [],
   "source": [
    "# Your code here:\n"
   ]
  },
  {
   "cell_type": "markdown",
   "metadata": {
    "id": "ERLWPV5efhca"
   },
   "source": [
    "# Challenge 3 - Join the Dataframes\n",
    "\n",
    "In this part of the lab, we will join the two dataframes and obtain a dataframe that contains features we can use in our ML algorithm.\n",
    "\n",
    "In the next cell, join the `google_missing_removed` dataframe with the `google_agg` dataframe on the `App` column. Assign this dataframe to the variable `google`."
   ]
  },
  {
   "cell_type": "code",
   "execution_count": null,
   "metadata": {
    "id": "7srN0WIzfhca"
   },
   "outputs": [],
   "source": [
    "# Your code here:\n"
   ]
  },
  {
   "cell_type": "markdown",
   "metadata": {
    "id": "EXhmXFJifhcb"
   },
   "source": [
    "#### Let's look at the final result using the `head()` function. Your final product should look like:\n",
    "\n",
    "![Final Product](google-final-head.png)"
   ]
  },
  {
   "cell_type": "code",
   "execution_count": null,
   "metadata": {
    "id": "-jgqbQsnfhcb"
   },
   "outputs": [],
   "source": [
    "# Your code here:\n"
   ]
  },
  {
   "cell_type": "code",
   "execution_count": null,
   "metadata": {
    "id": "MQngLJu_fyTb"
   },
   "outputs": [],
   "source": []
  },
  {
   "cell_type": "markdown",
   "metadata": {
    "id": "gsmZvpwXf3tk"
   },
   "source": [
    " # Challenge 4- Feature selection and modelling"
   ]
  },
  {
   "cell_type": "markdown",
   "metadata": {
    "id": "8b860R3Mxv6Y"
   },
   "source": [
    "Let's work with data about bank marketing.  You can find the dataset and description in the data folder\n",
    "Please use RFE, RFECV and SelectFomModel  for selecting the features from your dataset."
   ]
  },
  {
   "cell_type": "markdown",
   "metadata": {
    "id": "gQ9wFo2LyFlz"
   },
   "source": [
    "Step 1. Check your data. Clean and encode them if necessary"
   ]
  },
  {
   "cell_type": "code",
   "execution_count": null,
   "metadata": {
    "id": "cXlgWMx-yeid"
   },
   "outputs": [],
   "source": []
  },
  {
   "cell_type": "markdown",
   "metadata": {
    "id": "MPrB6mNSyHg5"
   },
   "source": [
    "Step 2. List your features"
   ]
  },
  {
   "cell_type": "code",
   "execution_count": null,
   "metadata": {
    "id": "178yrku5yfYc"
   },
   "outputs": [],
   "source": []
  },
  {
   "cell_type": "markdown",
   "metadata": {
    "id": "XoUOhvuiyNsc"
   },
   "source": [
    "Step 3. Apply the RandomForestClassifier and LogisticRegression model with default parameters to your data \n",
    "What is the accuracy for your models?"
   ]
  },
  {
   "cell_type": "code",
   "execution_count": null,
   "metadata": {
    "id": "9lQmeMMNyf9i"
   },
   "outputs": [],
   "source": []
  },
  {
   "cell_type": "markdown",
   "metadata": {
    "id": "qIG-oSLKyR7v"
   },
   "source": [
    "\n",
    "Step 4. Select features using SelectFromModel method. Explain, how you define the optimal number of features\n"
   ]
  },
  {
   "cell_type": "code",
   "execution_count": null,
   "metadata": {
    "id": "1gu17-s3ygub"
   },
   "outputs": [],
   "source": []
  },
  {
   "cell_type": "markdown",
   "metadata": {
    "id": "-bV-demNyVBQ"
   },
   "source": [
    "\n",
    "Step 5. Apply the RandomForestClassifier and LogisticRegression model with default parameters to your data (only selected features). What is the accuracy for your models?"
   ]
  },
  {
   "cell_type": "code",
   "execution_count": null,
   "metadata": {
    "id": "19_2unWgyhgi"
   },
   "outputs": [],
   "source": []
  },
  {
   "cell_type": "markdown",
   "metadata": {
    "id": "s_EcvHZEyYAj"
   },
   "source": [
    "\n",
    "Step 6. Select features using RFE and RFECV methods. Explain, how you define the optimal number of features for each of the cases."
   ]
  },
  {
   "cell_type": "code",
   "execution_count": null,
   "metadata": {
    "id": "O3s1Abx9yiH0"
   },
   "outputs": [],
   "source": []
  },
  {
   "cell_type": "markdown",
   "metadata": {
    "id": "m9OmWQP5ybBw"
   },
   "source": [
    "Step 7. Apply the RandomForestClassifier and LogisticRegression model with default parameters to your data (you will have 4 models, taking into account two sets of features that you got). What is the accuracy for your models?\n"
   ]
  },
  {
   "cell_type": "code",
   "execution_count": null,
   "metadata": {
    "id": "HU4cha-ryiqR"
   },
   "outputs": [],
   "source": []
  },
  {
   "cell_type": "markdown",
   "metadata": {
    "id": "37SCDzF0yBZC"
   },
   "source": [
    "\n",
    "\n",
    "\n",
    "\n",
    "\n",
    "\n",
    "\n",
    "\n",
    "\n",
    "Step 8. Please make the conclusion about the utility of the feature selection"
   ]
  },
  {
   "cell_type": "code",
   "execution_count": null,
   "metadata": {
    "id": "35gKrW65f9Ym"
   },
   "outputs": [],
   "source": []
  },
  {
   "cell_type": "code",
   "execution_count": null,
   "metadata": {
    "id": "xMG7-WLtx_kz"
   },
   "outputs": [],
   "source": []
  }
 ],
 "metadata": {
  "colab": {
   "collapsed_sections": [
    "gDkJXhN9fhcA",
    "49TTLiq7fhcF",
    "TciEBCyXfhcG",
    "memkwXoPfhcH",
    "t5SyM4bTfhcH",
    "SufgsNC1fhcI",
    "6nbSfbWWfhcJ",
    "tbCazUjNfhcK",
    "8ctUrk4DfhcL",
    "UfPYpqjHfhcM",
    "oDMV_zHffhcM",
    "128J08eFfhcP",
    "auNRd2TjfhcQ",
    "x6NQcl_vfhcR",
    "m1cfmFmWfhcS",
    "eNxu-scifhcT",
    "o0Llo0cNfhcT",
    "Aj0qu-_1fhcU",
    "aNZMlA9RfhcX",
    "LTOHBfanfhcY",
    "EXhmXFJifhcb"
   ],
   "name": "main.ipynb",
   "provenance": []
  },
  "kernelspec": {
   "display_name": "Python 3 (ipykernel)",
   "language": "python",
   "name": "python3"
  },
  "language_info": {
   "codemirror_mode": {
    "name": "ipython",
    "version": 3
   },
   "file_extension": ".py",
   "mimetype": "text/x-python",
   "name": "python",
   "nbconvert_exporter": "python",
   "pygments_lexer": "ipython3",
   "version": "3.9.13"
  }
 },
 "nbformat": 4,
 "nbformat_minor": 1
}
