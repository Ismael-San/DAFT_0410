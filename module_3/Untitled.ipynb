{
 "cells": [
  {
   "cell_type": "code",
   "execution_count": 12,
   "id": "7ee5e6ca",
   "metadata": {},
   "outputs": [],
   "source": [
    "from sklearn.neighbors import KNeighborsClassifier\n",
    "from sklearn.feature_extraction.text import CountVectorizer\n",
    "from nltk.stem.snowball import EnglishStemmer\n",
    "\n",
    "from matplotlib import pyplot as plt\n",
    "import xgboost as xgb\n",
    "import pandas as pd\n",
    "import numpy as np"
   ]
  },
  {
   "cell_type": "markdown",
   "id": "6b6a48c7",
   "metadata": {},
   "source": [
    "## Introduction "
   ]
  },
  {
   "cell_type": "code",
   "execution_count": 19,
   "id": "255db880",
   "metadata": {},
   "outputs": [],
   "source": [
    "df = pd.read_csv('/Users/ismaelcisse/Downloads/spam_sms.csv', encoding=\"WINDOWS-1252\")\n",
    "#uchardet spam_sms.csv\n",
    "#latin"
   ]
  },
  {
   "cell_type": "code",
   "execution_count": 20,
   "id": "286038ea",
   "metadata": {},
   "outputs": [
    {
     "data": {
      "text/html": [
       "<div>\n",
       "<style scoped>\n",
       "    .dataframe tbody tr th:only-of-type {\n",
       "        vertical-align: middle;\n",
       "    }\n",
       "\n",
       "    .dataframe tbody tr th {\n",
       "        vertical-align: top;\n",
       "    }\n",
       "\n",
       "    .dataframe thead th {\n",
       "        text-align: right;\n",
       "    }\n",
       "</style>\n",
       "<table border=\"1\" class=\"dataframe\">\n",
       "  <thead>\n",
       "    <tr style=\"text-align: right;\">\n",
       "      <th></th>\n",
       "      <th>v1</th>\n",
       "      <th>v2</th>\n",
       "      <th>Unnamed: 2</th>\n",
       "      <th>Unnamed: 3</th>\n",
       "      <th>Unnamed: 4</th>\n",
       "    </tr>\n",
       "  </thead>\n",
       "  <tbody>\n",
       "    <tr>\n",
       "      <th>0</th>\n",
       "      <td>ham</td>\n",
       "      <td>Go until jurong point, crazy.. Available only ...</td>\n",
       "      <td>NaN</td>\n",
       "      <td>NaN</td>\n",
       "      <td>NaN</td>\n",
       "    </tr>\n",
       "    <tr>\n",
       "      <th>1</th>\n",
       "      <td>ham</td>\n",
       "      <td>Ok lar... Joking wif u oni...</td>\n",
       "      <td>NaN</td>\n",
       "      <td>NaN</td>\n",
       "      <td>NaN</td>\n",
       "    </tr>\n",
       "    <tr>\n",
       "      <th>2</th>\n",
       "      <td>spam</td>\n",
       "      <td>Free entry in 2 a wkly comp to win FA Cup fina...</td>\n",
       "      <td>NaN</td>\n",
       "      <td>NaN</td>\n",
       "      <td>NaN</td>\n",
       "    </tr>\n",
       "    <tr>\n",
       "      <th>3</th>\n",
       "      <td>ham</td>\n",
       "      <td>U dun say so early hor... U c already then say...</td>\n",
       "      <td>NaN</td>\n",
       "      <td>NaN</td>\n",
       "      <td>NaN</td>\n",
       "    </tr>\n",
       "    <tr>\n",
       "      <th>4</th>\n",
       "      <td>ham</td>\n",
       "      <td>Nah I don't think he goes to usf, he lives aro...</td>\n",
       "      <td>NaN</td>\n",
       "      <td>NaN</td>\n",
       "      <td>NaN</td>\n",
       "    </tr>\n",
       "    <tr>\n",
       "      <th>...</th>\n",
       "      <td>...</td>\n",
       "      <td>...</td>\n",
       "      <td>...</td>\n",
       "      <td>...</td>\n",
       "      <td>...</td>\n",
       "    </tr>\n",
       "    <tr>\n",
       "      <th>5567</th>\n",
       "      <td>spam</td>\n",
       "      <td>This is the 2nd time we have tried 2 contact u...</td>\n",
       "      <td>NaN</td>\n",
       "      <td>NaN</td>\n",
       "      <td>NaN</td>\n",
       "    </tr>\n",
       "    <tr>\n",
       "      <th>5568</th>\n",
       "      <td>ham</td>\n",
       "      <td>Will Ì_ b going to esplanade fr home?</td>\n",
       "      <td>NaN</td>\n",
       "      <td>NaN</td>\n",
       "      <td>NaN</td>\n",
       "    </tr>\n",
       "    <tr>\n",
       "      <th>5569</th>\n",
       "      <td>ham</td>\n",
       "      <td>Pity, * was in mood for that. So...any other s...</td>\n",
       "      <td>NaN</td>\n",
       "      <td>NaN</td>\n",
       "      <td>NaN</td>\n",
       "    </tr>\n",
       "    <tr>\n",
       "      <th>5570</th>\n",
       "      <td>ham</td>\n",
       "      <td>The guy did some bitching but I acted like i'd...</td>\n",
       "      <td>NaN</td>\n",
       "      <td>NaN</td>\n",
       "      <td>NaN</td>\n",
       "    </tr>\n",
       "    <tr>\n",
       "      <th>5571</th>\n",
       "      <td>ham</td>\n",
       "      <td>Rofl. Its true to its name</td>\n",
       "      <td>NaN</td>\n",
       "      <td>NaN</td>\n",
       "      <td>NaN</td>\n",
       "    </tr>\n",
       "  </tbody>\n",
       "</table>\n",
       "<p>5572 rows × 5 columns</p>\n",
       "</div>"
      ],
      "text/plain": [
       "        v1                                                 v2 Unnamed: 2  \\\n",
       "0      ham  Go until jurong point, crazy.. Available only ...        NaN   \n",
       "1      ham                      Ok lar... Joking wif u oni...        NaN   \n",
       "2     spam  Free entry in 2 a wkly comp to win FA Cup fina...        NaN   \n",
       "3      ham  U dun say so early hor... U c already then say...        NaN   \n",
       "4      ham  Nah I don't think he goes to usf, he lives aro...        NaN   \n",
       "...    ...                                                ...        ...   \n",
       "5567  spam  This is the 2nd time we have tried 2 contact u...        NaN   \n",
       "5568   ham              Will Ì_ b going to esplanade fr home?        NaN   \n",
       "5569   ham  Pity, * was in mood for that. So...any other s...        NaN   \n",
       "5570   ham  The guy did some bitching but I acted like i'd...        NaN   \n",
       "5571   ham                         Rofl. Its true to its name        NaN   \n",
       "\n",
       "     Unnamed: 3 Unnamed: 4  \n",
       "0           NaN        NaN  \n",
       "1           NaN        NaN  \n",
       "2           NaN        NaN  \n",
       "3           NaN        NaN  \n",
       "4           NaN        NaN  \n",
       "...         ...        ...  \n",
       "5567        NaN        NaN  \n",
       "5568        NaN        NaN  \n",
       "5569        NaN        NaN  \n",
       "5570        NaN        NaN  \n",
       "5571        NaN        NaN  \n",
       "\n",
       "[5572 rows x 5 columns]"
      ]
     },
     "execution_count": 20,
     "metadata": {},
     "output_type": "execute_result"
    }
   ],
   "source": [
    "df"
   ]
  },
  {
   "cell_type": "code",
   "execution_count": 21,
   "id": "127a4cc8",
   "metadata": {},
   "outputs": [
    {
     "data": {
      "text/plain": [
       "ham     4825\n",
       "spam     747\n",
       "Name: v1, dtype: int64"
      ]
     },
     "execution_count": 21,
     "metadata": {},
     "output_type": "execute_result"
    }
   ],
   "source": [
    "df.v1.value_counts()"
   ]
  },
  {
   "cell_type": "code",
   "execution_count": 24,
   "id": "542a8603",
   "metadata": {},
   "outputs": [
    {
     "data": {
      "text/plain": [
       "50"
      ]
     },
     "execution_count": 24,
     "metadata": {},
     "output_type": "execute_result"
    }
   ],
   "source": [
    "df['Unnamed: 2'].notnull().sum() #50 in 4000 you can drop it"
   ]
  },
  {
   "cell_type": "code",
   "execution_count": 27,
   "id": "cb483639",
   "metadata": {},
   "outputs": [],
   "source": [
    "df = df[['v1','v2']]"
   ]
  },
  {
   "cell_type": "code",
   "execution_count": 28,
   "id": "2a1b5845",
   "metadata": {},
   "outputs": [
    {
     "data": {
      "text/html": [
       "<div>\n",
       "<style scoped>\n",
       "    .dataframe tbody tr th:only-of-type {\n",
       "        vertical-align: middle;\n",
       "    }\n",
       "\n",
       "    .dataframe tbody tr th {\n",
       "        vertical-align: top;\n",
       "    }\n",
       "\n",
       "    .dataframe thead th {\n",
       "        text-align: right;\n",
       "    }\n",
       "</style>\n",
       "<table border=\"1\" class=\"dataframe\">\n",
       "  <thead>\n",
       "    <tr style=\"text-align: right;\">\n",
       "      <th></th>\n",
       "      <th>v1</th>\n",
       "      <th>v2</th>\n",
       "    </tr>\n",
       "  </thead>\n",
       "  <tbody>\n",
       "    <tr>\n",
       "      <th>0</th>\n",
       "      <td>ham</td>\n",
       "      <td>Go until jurong point, crazy.. Available only ...</td>\n",
       "    </tr>\n",
       "    <tr>\n",
       "      <th>1</th>\n",
       "      <td>ham</td>\n",
       "      <td>Ok lar... Joking wif u oni...</td>\n",
       "    </tr>\n",
       "    <tr>\n",
       "      <th>2</th>\n",
       "      <td>spam</td>\n",
       "      <td>Free entry in 2 a wkly comp to win FA Cup fina...</td>\n",
       "    </tr>\n",
       "    <tr>\n",
       "      <th>3</th>\n",
       "      <td>ham</td>\n",
       "      <td>U dun say so early hor... U c already then say...</td>\n",
       "    </tr>\n",
       "    <tr>\n",
       "      <th>4</th>\n",
       "      <td>ham</td>\n",
       "      <td>Nah I don't think he goes to usf, he lives aro...</td>\n",
       "    </tr>\n",
       "    <tr>\n",
       "      <th>...</th>\n",
       "      <td>...</td>\n",
       "      <td>...</td>\n",
       "    </tr>\n",
       "    <tr>\n",
       "      <th>5567</th>\n",
       "      <td>spam</td>\n",
       "      <td>This is the 2nd time we have tried 2 contact u...</td>\n",
       "    </tr>\n",
       "    <tr>\n",
       "      <th>5568</th>\n",
       "      <td>ham</td>\n",
       "      <td>Will Ì_ b going to esplanade fr home?</td>\n",
       "    </tr>\n",
       "    <tr>\n",
       "      <th>5569</th>\n",
       "      <td>ham</td>\n",
       "      <td>Pity, * was in mood for that. So...any other s...</td>\n",
       "    </tr>\n",
       "    <tr>\n",
       "      <th>5570</th>\n",
       "      <td>ham</td>\n",
       "      <td>The guy did some bitching but I acted like i'd...</td>\n",
       "    </tr>\n",
       "    <tr>\n",
       "      <th>5571</th>\n",
       "      <td>ham</td>\n",
       "      <td>Rofl. Its true to its name</td>\n",
       "    </tr>\n",
       "  </tbody>\n",
       "</table>\n",
       "<p>5572 rows × 2 columns</p>\n",
       "</div>"
      ],
      "text/plain": [
       "        v1                                                 v2\n",
       "0      ham  Go until jurong point, crazy.. Available only ...\n",
       "1      ham                      Ok lar... Joking wif u oni...\n",
       "2     spam  Free entry in 2 a wkly comp to win FA Cup fina...\n",
       "3      ham  U dun say so early hor... U c already then say...\n",
       "4      ham  Nah I don't think he goes to usf, he lives aro...\n",
       "...    ...                                                ...\n",
       "5567  spam  This is the 2nd time we have tried 2 contact u...\n",
       "5568   ham              Will Ì_ b going to esplanade fr home?\n",
       "5569   ham  Pity, * was in mood for that. So...any other s...\n",
       "5570   ham  The guy did some bitching but I acted like i'd...\n",
       "5571   ham                         Rofl. Its true to its name\n",
       "\n",
       "[5572 rows x 2 columns]"
      ]
     },
     "execution_count": 28,
     "metadata": {},
     "output_type": "execute_result"
    }
   ],
   "source": [
    "df"
   ]
  },
  {
   "cell_type": "code",
   "execution_count": 29,
   "id": "748e0d21",
   "metadata": {},
   "outputs": [],
   "source": [
    "df['spam'] = df['v1'] == 'spam'\n",
    "df.rename(columns={'v2': 'text'}, inplace=True)\n",
    "df.drop[columns=['v1','Unnamed: 2', 'Unnamed 3', 'Unnamed: 4', inplace=True]\n",
    "        "
   ]
  },
  {
   "cell_type": "code",
   "execution_count": 30,
   "id": "15fe1ad2",
   "metadata": {},
   "outputs": [],
   "source": [
    "#We can detect outliers by predict the train instead of test"
   ]
  },
  {
   "cell_type": "code",
   "execution_count": 69,
   "id": "224eaa4c",
   "metadata": {},
   "outputs": [],
   "source": [
    "text = [\n",
    "    'Hello how are you doing? --- $',\n",
    "    'Good morning, how do you do? --- $',\n",
    "    'Apache/a2.4.5'\n",
    "]"
   ]
  },
  {
   "cell_type": "code",
   "execution_count": 36,
   "id": "de016a1d",
   "metadata": {},
   "outputs": [],
   "source": [
    "vectorizer = CountVectorizer()"
   ]
  },
  {
   "cell_type": "code",
   "execution_count": 37,
   "id": "7a12735d",
   "metadata": {},
   "outputs": [
    {
     "data": {
      "text/plain": [
       "<1x8 sparse matrix of type '<class 'numpy.int64'>'\n",
       "\twith 8 stored elements in Compressed Sparse Row format>"
      ]
     },
     "execution_count": 37,
     "metadata": {},
     "output_type": "execute_result"
    }
   ],
   "source": [
    "vectorizer.fit_transform(text)"
   ]
  },
  {
   "cell_type": "code",
   "execution_count": 38,
   "id": "9908673b",
   "metadata": {},
   "outputs": [],
   "source": [
    "#Sparse = a lot of zeros"
   ]
  },
  {
   "cell_type": "code",
   "execution_count": 54,
   "id": "b1c1daad",
   "metadata": {},
   "outputs": [
    {
     "data": {
      "text/plain": [
       "matrix([[1, 0, 1, 0, 1, 1, 0, 1],\n",
       "        [0, 2, 0, 1, 0, 1, 1, 1]])"
      ]
     },
     "execution_count": 54,
     "metadata": {},
     "output_type": "execute_result"
    }
   ],
   "source": [
    "vectorizer.fit_transform(text).todense()"
   ]
  },
  {
   "cell_type": "code",
   "execution_count": 55,
   "id": "4c157140",
   "metadata": {},
   "outputs": [],
   "source": [
    "vectors = vectorizer.fit_transform(text).todense()"
   ]
  },
  {
   "cell_type": "code",
   "execution_count": 56,
   "id": "b32262d4",
   "metadata": {},
   "outputs": [],
   "source": [
    "vocabulary = vectorizer.get_feature_names_out() #it took all the words so that we can use it as vectores"
   ]
  },
  {
   "cell_type": "code",
   "execution_count": 57,
   "id": "e3fdaa5f",
   "metadata": {},
   "outputs": [
    {
     "data": {
      "text/html": [
       "<div>\n",
       "<style scoped>\n",
       "    .dataframe tbody tr th:only-of-type {\n",
       "        vertical-align: middle;\n",
       "    }\n",
       "\n",
       "    .dataframe tbody tr th {\n",
       "        vertical-align: top;\n",
       "    }\n",
       "\n",
       "    .dataframe thead th {\n",
       "        text-align: right;\n",
       "    }\n",
       "</style>\n",
       "<table border=\"1\" class=\"dataframe\">\n",
       "  <thead>\n",
       "    <tr style=\"text-align: right;\">\n",
       "      <th></th>\n",
       "      <th>are</th>\n",
       "      <th>do</th>\n",
       "      <th>doing</th>\n",
       "      <th>good</th>\n",
       "      <th>hello</th>\n",
       "      <th>how</th>\n",
       "      <th>morning</th>\n",
       "      <th>you</th>\n",
       "    </tr>\n",
       "  </thead>\n",
       "  <tbody>\n",
       "    <tr>\n",
       "      <th>Hello how are you doing? --- $</th>\n",
       "      <td>1</td>\n",
       "      <td>0</td>\n",
       "      <td>1</td>\n",
       "      <td>0</td>\n",
       "      <td>1</td>\n",
       "      <td>1</td>\n",
       "      <td>0</td>\n",
       "      <td>1</td>\n",
       "    </tr>\n",
       "    <tr>\n",
       "      <th>Good morning, how do you do? --- $</th>\n",
       "      <td>0</td>\n",
       "      <td>2</td>\n",
       "      <td>0</td>\n",
       "      <td>1</td>\n",
       "      <td>0</td>\n",
       "      <td>1</td>\n",
       "      <td>1</td>\n",
       "      <td>1</td>\n",
       "    </tr>\n",
       "  </tbody>\n",
       "</table>\n",
       "</div>"
      ],
      "text/plain": [
       "                                    are  do  doing  good  hello  how  morning  \\\n",
       "Hello how are you doing? --- $        1   0      1     0      1    1        0   \n",
       "Good morning, how do you do? --- $    0   2      0     1      0    1        1   \n",
       "\n",
       "                                    you  \n",
       "Hello how are you doing? --- $        1  \n",
       "Good morning, how do you do? --- $    1  "
      ]
     },
     "execution_count": 57,
     "metadata": {},
     "output_type": "execute_result"
    }
   ],
   "source": [
    "pd.DataFrame(vectors,columns=vocabulary, index=text)"
   ]
  },
  {
   "cell_type": "code",
   "execution_count": 59,
   "id": "de7e1b77",
   "metadata": {},
   "outputs": [],
   "source": [
    "#CountVectorizer() parameters"
   ]
  },
  {
   "cell_type": "code",
   "execution_count": null,
   "id": "9204ef30",
   "metadata": {},
   "outputs": [],
   "source": [
    "# callable = function"
   ]
  },
  {
   "cell_type": "code",
   "execution_count": 60,
   "id": "7a76481e",
   "metadata": {},
   "outputs": [],
   "source": [
    "#tokenizing = cutting a sub-word in multiple string ex : \"good morning\""
   ]
  },
  {
   "cell_type": "code",
   "execution_count": 61,
   "id": "87776a19",
   "metadata": {},
   "outputs": [],
   "source": [
    "#max_df : filter that use to word that appears max\n",
    "#min_df : filter that use to word that appears min"
   ]
  },
  {
   "cell_type": "code",
   "execution_count": 62,
   "id": "fe394f02",
   "metadata": {},
   "outputs": [],
   "source": [
    "#analyzer : parameter either a string (word), char or a callable : a custom function\n"
   ]
  },
  {
   "cell_type": "code",
   "execution_count": 74,
   "id": "50350921",
   "metadata": {},
   "outputs": [],
   "source": [
    "#Intro to stemming"
   ]
  },
  {
   "cell_type": "code",
   "execution_count": 75,
   "id": "8d8a194b",
   "metadata": {},
   "outputs": [],
   "source": [
    "from nltk.stem.snowball import EnglishStemmer"
   ]
  },
  {
   "cell_type": "code",
   "execution_count": 76,
   "id": "f67d8d6c",
   "metadata": {},
   "outputs": [],
   "source": [
    "#Can handle for instance texts like \"Apache/2.3.5\"\n",
    "def simple_text_analyzer(text):\n",
    "    return text.split('/')"
   ]
  },
  {
   "cell_type": "code",
   "execution_count": 80,
   "id": "b89085cc",
   "metadata": {},
   "outputs": [
    {
     "data": {
      "text/plain": [
       "'do'"
      ]
     },
     "execution_count": 80,
     "metadata": {},
     "output_type": "execute_result"
    }
   ],
   "source": [
    "stemmer = EnglishStemmer()\n",
    "stemmer.stem('doing')"
   ]
  },
  {
   "cell_type": "code",
   "execution_count": 81,
   "id": "62e69e87",
   "metadata": {},
   "outputs": [
    {
     "ename": "AttributeError",
     "evalue": "'CountVectorizer' object has no attribute 'build'",
     "output_type": "error",
     "traceback": [
      "\u001b[0;31m---------------------------------------------------------------------------\u001b[0m",
      "\u001b[0;31mAttributeError\u001b[0m                            Traceback (most recent call last)",
      "\u001b[0;32m/var/folders/fp/nkvz8km55ybd4yzr2wcb2pjr0000gn/T/ipykernel_69357/429456599.py\u001b[0m in \u001b[0;36m<module>\u001b[0;34m\u001b[0m\n\u001b[0;32m----> 1\u001b[0;31m \u001b[0mdefault_analyzer\u001b[0m \u001b[0;34m=\u001b[0m \u001b[0mCountVectorizer\u001b[0m\u001b[0;34m(\u001b[0m\u001b[0mstop_words\u001b[0m\u001b[0;34m=\u001b[0m\u001b[0;34m\"english\"\u001b[0m\u001b[0;34m)\u001b[0m\u001b[0;34m.\u001b[0m\u001b[0mbuild\u001b[0m\u001b[0;34m.\u001b[0m\u001b[0manalyzer\u001b[0m\u001b[0;34m(\u001b[0m\u001b[0;34m)\u001b[0m\u001b[0;34m\u001b[0m\u001b[0;34m\u001b[0m\u001b[0m\n\u001b[0m",
      "\u001b[0;31mAttributeError\u001b[0m: 'CountVectorizer' object has no attribute 'build'"
     ]
    }
   ],
   "source": [
    "default_analyzer = CountVectorizer(stop_words=\"english\").build.analyzer()"
   ]
  },
  {
   "cell_type": "code",
   "execution_count": 67,
   "id": "5f76d419",
   "metadata": {},
   "outputs": [],
   "source": [
    "vectors = vectorizer.fit_transform(text)"
   ]
  },
  {
   "cell_type": "code",
   "execution_count": 71,
   "id": "03ff7bee",
   "metadata": {},
   "outputs": [],
   "source": [
    "vectorizer = CountVectorizer(analyzer=analyze_text)"
   ]
  },
  {
   "cell_type": "code",
   "execution_count": 73,
   "id": "55baadf1",
   "metadata": {},
   "outputs": [
    {
     "data": {
      "text/html": [
       "<div>\n",
       "<style scoped>\n",
       "    .dataframe tbody tr th:only-of-type {\n",
       "        vertical-align: middle;\n",
       "    }\n",
       "\n",
       "    .dataframe tbody tr th {\n",
       "        vertical-align: top;\n",
       "    }\n",
       "\n",
       "    .dataframe thead th {\n",
       "        text-align: right;\n",
       "    }\n",
       "</style>\n",
       "<table border=\"1\" class=\"dataframe\">\n",
       "  <thead>\n",
       "    <tr style=\"text-align: right;\">\n",
       "      <th></th>\n",
       "      <th>are</th>\n",
       "      <th>do</th>\n",
       "      <th>doing</th>\n",
       "      <th>good</th>\n",
       "      <th>hello</th>\n",
       "      <th>how</th>\n",
       "      <th>morning</th>\n",
       "      <th>you</th>\n",
       "    </tr>\n",
       "  </thead>\n",
       "  <tbody>\n",
       "    <tr>\n",
       "      <th>Hello how are you doing? --- $</th>\n",
       "      <td>&lt;bound method CountVectorizer.fit_transform of...</td>\n",
       "      <td>&lt;bound method CountVectorizer.fit_transform of...</td>\n",
       "      <td>&lt;bound method CountVectorizer.fit_transform of...</td>\n",
       "      <td>&lt;bound method CountVectorizer.fit_transform of...</td>\n",
       "      <td>&lt;bound method CountVectorizer.fit_transform of...</td>\n",
       "      <td>&lt;bound method CountVectorizer.fit_transform of...</td>\n",
       "      <td>&lt;bound method CountVectorizer.fit_transform of...</td>\n",
       "      <td>&lt;bound method CountVectorizer.fit_transform of...</td>\n",
       "    </tr>\n",
       "    <tr>\n",
       "      <th>Good morning, how do you do? --- $</th>\n",
       "      <td>&lt;bound method CountVectorizer.fit_transform of...</td>\n",
       "      <td>&lt;bound method CountVectorizer.fit_transform of...</td>\n",
       "      <td>&lt;bound method CountVectorizer.fit_transform of...</td>\n",
       "      <td>&lt;bound method CountVectorizer.fit_transform of...</td>\n",
       "      <td>&lt;bound method CountVectorizer.fit_transform of...</td>\n",
       "      <td>&lt;bound method CountVectorizer.fit_transform of...</td>\n",
       "      <td>&lt;bound method CountVectorizer.fit_transform of...</td>\n",
       "      <td>&lt;bound method CountVectorizer.fit_transform of...</td>\n",
       "    </tr>\n",
       "    <tr>\n",
       "      <th>Apache/a2.4.5</th>\n",
       "      <td>&lt;bound method CountVectorizer.fit_transform of...</td>\n",
       "      <td>&lt;bound method CountVectorizer.fit_transform of...</td>\n",
       "      <td>&lt;bound method CountVectorizer.fit_transform of...</td>\n",
       "      <td>&lt;bound method CountVectorizer.fit_transform of...</td>\n",
       "      <td>&lt;bound method CountVectorizer.fit_transform of...</td>\n",
       "      <td>&lt;bound method CountVectorizer.fit_transform of...</td>\n",
       "      <td>&lt;bound method CountVectorizer.fit_transform of...</td>\n",
       "      <td>&lt;bound method CountVectorizer.fit_transform of...</td>\n",
       "    </tr>\n",
       "  </tbody>\n",
       "</table>\n",
       "</div>"
      ],
      "text/plain": [
       "                                                                                  are  \\\n",
       "Hello how are you doing? --- $      <bound method CountVectorizer.fit_transform of...   \n",
       "Good morning, how do you do? --- $  <bound method CountVectorizer.fit_transform of...   \n",
       "Apache/a2.4.5                       <bound method CountVectorizer.fit_transform of...   \n",
       "\n",
       "                                                                                   do  \\\n",
       "Hello how are you doing? --- $      <bound method CountVectorizer.fit_transform of...   \n",
       "Good morning, how do you do? --- $  <bound method CountVectorizer.fit_transform of...   \n",
       "Apache/a2.4.5                       <bound method CountVectorizer.fit_transform of...   \n",
       "\n",
       "                                                                                doing  \\\n",
       "Hello how are you doing? --- $      <bound method CountVectorizer.fit_transform of...   \n",
       "Good morning, how do you do? --- $  <bound method CountVectorizer.fit_transform of...   \n",
       "Apache/a2.4.5                       <bound method CountVectorizer.fit_transform of...   \n",
       "\n",
       "                                                                                 good  \\\n",
       "Hello how are you doing? --- $      <bound method CountVectorizer.fit_transform of...   \n",
       "Good morning, how do you do? --- $  <bound method CountVectorizer.fit_transform of...   \n",
       "Apache/a2.4.5                       <bound method CountVectorizer.fit_transform of...   \n",
       "\n",
       "                                                                                hello  \\\n",
       "Hello how are you doing? --- $      <bound method CountVectorizer.fit_transform of...   \n",
       "Good morning, how do you do? --- $  <bound method CountVectorizer.fit_transform of...   \n",
       "Apache/a2.4.5                       <bound method CountVectorizer.fit_transform of...   \n",
       "\n",
       "                                                                                  how  \\\n",
       "Hello how are you doing? --- $      <bound method CountVectorizer.fit_transform of...   \n",
       "Good morning, how do you do? --- $  <bound method CountVectorizer.fit_transform of...   \n",
       "Apache/a2.4.5                       <bound method CountVectorizer.fit_transform of...   \n",
       "\n",
       "                                                                              morning  \\\n",
       "Hello how are you doing? --- $      <bound method CountVectorizer.fit_transform of...   \n",
       "Good morning, how do you do? --- $  <bound method CountVectorizer.fit_transform of...   \n",
       "Apache/a2.4.5                       <bound method CountVectorizer.fit_transform of...   \n",
       "\n",
       "                                                                                  you  \n",
       "Hello how are you doing? --- $      <bound method CountVectorizer.fit_transform of...  \n",
       "Good morning, how do you do? --- $  <bound method CountVectorizer.fit_transform of...  \n",
       "Apache/a2.4.5                       <bound method CountVectorizer.fit_transform of...  "
      ]
     },
     "execution_count": 73,
     "metadata": {},
     "output_type": "execute_result"
    }
   ],
   "source": [
    "pd.DataFrame(vectors,columns=vocabulary, index=text)"
   ]
  },
  {
   "cell_type": "code",
   "execution_count": 82,
   "id": "ac0d3872",
   "metadata": {},
   "outputs": [],
   "source": [
    "vectors = vectorizer.fit"
   ]
  },
  {
   "cell_type": "code",
   "execution_count": 83,
   "id": "4d703a1e",
   "metadata": {},
   "outputs": [],
   "source": [
    "#keep sparse - faster "
   ]
  },
  {
   "cell_type": "code",
   "execution_count": null,
   "id": "e19a12d3",
   "metadata": {},
   "outputs": [],
   "source": [
    "GridSearchCV :\n",
    "- do the cross / validation\n",
    "- Automatically handled by GridSearchCV\n",
    "best_model = search"
   ]
  }
 ],
 "metadata": {
  "kernelspec": {
   "display_name": "Python 3 (ipykernel)",
   "language": "python",
   "name": "python3"
  },
  "language_info": {
   "codemirror_mode": {
    "name": "ipython",
    "version": 3
   },
   "file_extension": ".py",
   "mimetype": "text/x-python",
   "name": "python",
   "nbconvert_exporter": "python",
   "pygments_lexer": "ipython3",
   "version": "3.9.13"
  }
 },
 "nbformat": 4,
 "nbformat_minor": 5
}
